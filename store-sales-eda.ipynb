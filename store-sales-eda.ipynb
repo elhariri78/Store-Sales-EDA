{
 "cells": [
  {
   "cell_type": "code",
   "execution_count": 1,
   "id": "5f74e554",
   "metadata": {
    "_cell_guid": "b1076dfc-b9ad-4769-8c92-a6c4dae69d19",
    "_uuid": "8f2839f25d086af736a60e9eeb907d3b93b6e0e5",
    "execution": {
     "iopub.execute_input": "2024-08-30T14:32:37.336341Z",
     "iopub.status.busy": "2024-08-30T14:32:37.335838Z",
     "iopub.status.idle": "2024-08-30T14:32:38.484654Z",
     "shell.execute_reply": "2024-08-30T14:32:38.483572Z"
    },
    "papermill": {
     "duration": 1.167324,
     "end_time": "2024-08-30T14:32:38.487761",
     "exception": false,
     "start_time": "2024-08-30T14:32:37.320437",
     "status": "completed"
    },
    "tags": []
   },
   "outputs": [],
   "source": [
    "import numpy as np \n",
    "import pandas as pd \n",
    "import matplotlib.pyplot as plt\n",
    "import seaborn as sns"
   ]
  },
  {
   "cell_type": "code",
   "execution_count": 2,
   "id": "d3432092",
   "metadata": {
    "execution": {
     "iopub.execute_input": "2024-08-30T14:32:38.514527Z",
     "iopub.status.busy": "2024-08-30T14:32:38.514094Z",
     "iopub.status.idle": "2024-08-30T14:32:38.601328Z",
     "shell.execute_reply": "2024-08-30T14:32:38.600276Z"
    },
    "papermill": {
     "duration": 0.103467,
     "end_time": "2024-08-30T14:32:38.604099",
     "exception": false,
     "start_time": "2024-08-30T14:32:38.500632",
     "status": "completed"
    },
    "tags": []
   },
   "outputs": [],
   "source": [
    "# reading the data in a datafram\n",
    "df = pd.read_csv('../input/sales-forecasting/train.csv') "
   ]
  },
  {
   "cell_type": "code",
   "execution_count": 3,
   "id": "ce84f1a0",
   "metadata": {
    "execution": {
     "iopub.execute_input": "2024-08-30T14:32:38.631112Z",
     "iopub.status.busy": "2024-08-30T14:32:38.629914Z",
     "iopub.status.idle": "2024-08-30T14:32:38.639323Z",
     "shell.execute_reply": "2024-08-30T14:32:38.638228Z"
    },
    "papermill": {
     "duration": 0.025198,
     "end_time": "2024-08-30T14:32:38.641557",
     "exception": false,
     "start_time": "2024-08-30T14:32:38.616359",
     "status": "completed"
    },
    "tags": []
   },
   "outputs": [
    {
     "data": {
      "text/plain": [
       "(9800, 18)"
      ]
     },
     "execution_count": 3,
     "metadata": {},
     "output_type": "execute_result"
    }
   ],
   "source": [
    "# see the data shape \n",
    "df.shape"
   ]
  },
  {
   "cell_type": "code",
   "execution_count": 4,
   "id": "91e85e91",
   "metadata": {
    "execution": {
     "iopub.execute_input": "2024-08-30T14:32:38.669165Z",
     "iopub.status.busy": "2024-08-30T14:32:38.668720Z",
     "iopub.status.idle": "2024-08-30T14:32:38.697394Z",
     "shell.execute_reply": "2024-08-30T14:32:38.696228Z"
    },
    "papermill": {
     "duration": 0.045883,
     "end_time": "2024-08-30T14:32:38.699936",
     "exception": false,
     "start_time": "2024-08-30T14:32:38.654053",
     "status": "completed"
    },
    "tags": []
   },
   "outputs": [
    {
     "data": {
      "text/html": [
       "<div>\n",
       "<style scoped>\n",
       "    .dataframe tbody tr th:only-of-type {\n",
       "        vertical-align: middle;\n",
       "    }\n",
       "\n",
       "    .dataframe tbody tr th {\n",
       "        vertical-align: top;\n",
       "    }\n",
       "\n",
       "    .dataframe thead th {\n",
       "        text-align: right;\n",
       "    }\n",
       "</style>\n",
       "<table border=\"1\" class=\"dataframe\">\n",
       "  <thead>\n",
       "    <tr style=\"text-align: right;\">\n",
       "      <th></th>\n",
       "      <th>Row ID</th>\n",
       "      <th>Order ID</th>\n",
       "      <th>Order Date</th>\n",
       "      <th>Ship Date</th>\n",
       "      <th>Ship Mode</th>\n",
       "      <th>Customer ID</th>\n",
       "      <th>Customer Name</th>\n",
       "      <th>Segment</th>\n",
       "      <th>Country</th>\n",
       "      <th>City</th>\n",
       "      <th>State</th>\n",
       "      <th>Postal Code</th>\n",
       "      <th>Region</th>\n",
       "      <th>Product ID</th>\n",
       "      <th>Category</th>\n",
       "      <th>Sub-Category</th>\n",
       "      <th>Product Name</th>\n",
       "      <th>Sales</th>\n",
       "    </tr>\n",
       "  </thead>\n",
       "  <tbody>\n",
       "    <tr>\n",
       "      <th>0</th>\n",
       "      <td>1</td>\n",
       "      <td>CA-2017-152156</td>\n",
       "      <td>08/11/2017</td>\n",
       "      <td>11/11/2017</td>\n",
       "      <td>Second Class</td>\n",
       "      <td>CG-12520</td>\n",
       "      <td>Claire Gute</td>\n",
       "      <td>Consumer</td>\n",
       "      <td>United States</td>\n",
       "      <td>Henderson</td>\n",
       "      <td>Kentucky</td>\n",
       "      <td>42420.0</td>\n",
       "      <td>South</td>\n",
       "      <td>FUR-BO-10001798</td>\n",
       "      <td>Furniture</td>\n",
       "      <td>Bookcases</td>\n",
       "      <td>Bush Somerset Collection Bookcase</td>\n",
       "      <td>261.9600</td>\n",
       "    </tr>\n",
       "    <tr>\n",
       "      <th>1</th>\n",
       "      <td>2</td>\n",
       "      <td>CA-2017-152156</td>\n",
       "      <td>08/11/2017</td>\n",
       "      <td>11/11/2017</td>\n",
       "      <td>Second Class</td>\n",
       "      <td>CG-12520</td>\n",
       "      <td>Claire Gute</td>\n",
       "      <td>Consumer</td>\n",
       "      <td>United States</td>\n",
       "      <td>Henderson</td>\n",
       "      <td>Kentucky</td>\n",
       "      <td>42420.0</td>\n",
       "      <td>South</td>\n",
       "      <td>FUR-CH-10000454</td>\n",
       "      <td>Furniture</td>\n",
       "      <td>Chairs</td>\n",
       "      <td>Hon Deluxe Fabric Upholstered Stacking Chairs,...</td>\n",
       "      <td>731.9400</td>\n",
       "    </tr>\n",
       "    <tr>\n",
       "      <th>2</th>\n",
       "      <td>3</td>\n",
       "      <td>CA-2017-138688</td>\n",
       "      <td>12/06/2017</td>\n",
       "      <td>16/06/2017</td>\n",
       "      <td>Second Class</td>\n",
       "      <td>DV-13045</td>\n",
       "      <td>Darrin Van Huff</td>\n",
       "      <td>Corporate</td>\n",
       "      <td>United States</td>\n",
       "      <td>Los Angeles</td>\n",
       "      <td>California</td>\n",
       "      <td>90036.0</td>\n",
       "      <td>West</td>\n",
       "      <td>OFF-LA-10000240</td>\n",
       "      <td>Office Supplies</td>\n",
       "      <td>Labels</td>\n",
       "      <td>Self-Adhesive Address Labels for Typewriters b...</td>\n",
       "      <td>14.6200</td>\n",
       "    </tr>\n",
       "    <tr>\n",
       "      <th>3</th>\n",
       "      <td>4</td>\n",
       "      <td>US-2016-108966</td>\n",
       "      <td>11/10/2016</td>\n",
       "      <td>18/10/2016</td>\n",
       "      <td>Standard Class</td>\n",
       "      <td>SO-20335</td>\n",
       "      <td>Sean O'Donnell</td>\n",
       "      <td>Consumer</td>\n",
       "      <td>United States</td>\n",
       "      <td>Fort Lauderdale</td>\n",
       "      <td>Florida</td>\n",
       "      <td>33311.0</td>\n",
       "      <td>South</td>\n",
       "      <td>FUR-TA-10000577</td>\n",
       "      <td>Furniture</td>\n",
       "      <td>Tables</td>\n",
       "      <td>Bretford CR4500 Series Slim Rectangular Table</td>\n",
       "      <td>957.5775</td>\n",
       "    </tr>\n",
       "    <tr>\n",
       "      <th>4</th>\n",
       "      <td>5</td>\n",
       "      <td>US-2016-108966</td>\n",
       "      <td>11/10/2016</td>\n",
       "      <td>18/10/2016</td>\n",
       "      <td>Standard Class</td>\n",
       "      <td>SO-20335</td>\n",
       "      <td>Sean O'Donnell</td>\n",
       "      <td>Consumer</td>\n",
       "      <td>United States</td>\n",
       "      <td>Fort Lauderdale</td>\n",
       "      <td>Florida</td>\n",
       "      <td>33311.0</td>\n",
       "      <td>South</td>\n",
       "      <td>OFF-ST-10000760</td>\n",
       "      <td>Office Supplies</td>\n",
       "      <td>Storage</td>\n",
       "      <td>Eldon Fold 'N Roll Cart System</td>\n",
       "      <td>22.3680</td>\n",
       "    </tr>\n",
       "  </tbody>\n",
       "</table>\n",
       "</div>"
      ],
      "text/plain": [
       "   Row ID        Order ID  Order Date   Ship Date       Ship Mode Customer ID  \\\n",
       "0       1  CA-2017-152156  08/11/2017  11/11/2017    Second Class    CG-12520   \n",
       "1       2  CA-2017-152156  08/11/2017  11/11/2017    Second Class    CG-12520   \n",
       "2       3  CA-2017-138688  12/06/2017  16/06/2017    Second Class    DV-13045   \n",
       "3       4  US-2016-108966  11/10/2016  18/10/2016  Standard Class    SO-20335   \n",
       "4       5  US-2016-108966  11/10/2016  18/10/2016  Standard Class    SO-20335   \n",
       "\n",
       "     Customer Name    Segment        Country             City       State  \\\n",
       "0      Claire Gute   Consumer  United States        Henderson    Kentucky   \n",
       "1      Claire Gute   Consumer  United States        Henderson    Kentucky   \n",
       "2  Darrin Van Huff  Corporate  United States      Los Angeles  California   \n",
       "3   Sean O'Donnell   Consumer  United States  Fort Lauderdale     Florida   \n",
       "4   Sean O'Donnell   Consumer  United States  Fort Lauderdale     Florida   \n",
       "\n",
       "   Postal Code Region       Product ID         Category Sub-Category  \\\n",
       "0      42420.0  South  FUR-BO-10001798        Furniture    Bookcases   \n",
       "1      42420.0  South  FUR-CH-10000454        Furniture       Chairs   \n",
       "2      90036.0   West  OFF-LA-10000240  Office Supplies       Labels   \n",
       "3      33311.0  South  FUR-TA-10000577        Furniture       Tables   \n",
       "4      33311.0  South  OFF-ST-10000760  Office Supplies      Storage   \n",
       "\n",
       "                                        Product Name     Sales  \n",
       "0                  Bush Somerset Collection Bookcase  261.9600  \n",
       "1  Hon Deluxe Fabric Upholstered Stacking Chairs,...  731.9400  \n",
       "2  Self-Adhesive Address Labels for Typewriters b...   14.6200  \n",
       "3      Bretford CR4500 Series Slim Rectangular Table  957.5775  \n",
       "4                     Eldon Fold 'N Roll Cart System   22.3680  "
      ]
     },
     "execution_count": 4,
     "metadata": {},
     "output_type": "execute_result"
    }
   ],
   "source": [
    "# see first 5 rows \n",
    "df.head()"
   ]
  },
  {
   "cell_type": "code",
   "execution_count": 5,
   "id": "ff5fbf52",
   "metadata": {
    "execution": {
     "iopub.execute_input": "2024-08-30T14:32:38.726962Z",
     "iopub.status.busy": "2024-08-30T14:32:38.726490Z",
     "iopub.status.idle": "2024-08-30T14:32:38.756966Z",
     "shell.execute_reply": "2024-08-30T14:32:38.755789Z"
    },
    "papermill": {
     "duration": 0.047021,
     "end_time": "2024-08-30T14:32:38.759732",
     "exception": false,
     "start_time": "2024-08-30T14:32:38.712711",
     "status": "completed"
    },
    "tags": []
   },
   "outputs": [
    {
     "data": {
      "text/html": [
       "<div>\n",
       "<style scoped>\n",
       "    .dataframe tbody tr th:only-of-type {\n",
       "        vertical-align: middle;\n",
       "    }\n",
       "\n",
       "    .dataframe tbody tr th {\n",
       "        vertical-align: top;\n",
       "    }\n",
       "\n",
       "    .dataframe thead th {\n",
       "        text-align: right;\n",
       "    }\n",
       "</style>\n",
       "<table border=\"1\" class=\"dataframe\">\n",
       "  <thead>\n",
       "    <tr style=\"text-align: right;\">\n",
       "      <th></th>\n",
       "      <th>Row ID</th>\n",
       "      <th>Order ID</th>\n",
       "      <th>Order Date</th>\n",
       "      <th>Ship Date</th>\n",
       "      <th>Ship Mode</th>\n",
       "      <th>Customer ID</th>\n",
       "      <th>Customer Name</th>\n",
       "      <th>Segment</th>\n",
       "      <th>Country</th>\n",
       "      <th>City</th>\n",
       "      <th>State</th>\n",
       "      <th>Postal Code</th>\n",
       "      <th>Region</th>\n",
       "      <th>Product ID</th>\n",
       "      <th>Category</th>\n",
       "      <th>Sub-Category</th>\n",
       "      <th>Product Name</th>\n",
       "      <th>Sales</th>\n",
       "    </tr>\n",
       "  </thead>\n",
       "  <tbody>\n",
       "    <tr>\n",
       "      <th>6086</th>\n",
       "      <td>6087</td>\n",
       "      <td>US-2017-132577</td>\n",
       "      <td>22/11/2017</td>\n",
       "      <td>27/11/2017</td>\n",
       "      <td>Standard Class</td>\n",
       "      <td>JE-15475</td>\n",
       "      <td>Jeremy Ellison</td>\n",
       "      <td>Consumer</td>\n",
       "      <td>United States</td>\n",
       "      <td>Houston</td>\n",
       "      <td>Texas</td>\n",
       "      <td>77095.0</td>\n",
       "      <td>Central</td>\n",
       "      <td>OFF-BI-10003196</td>\n",
       "      <td>Office Supplies</td>\n",
       "      <td>Binders</td>\n",
       "      <td>Accohide Poly Flexible Ring Binders</td>\n",
       "      <td>4.488</td>\n",
       "    </tr>\n",
       "    <tr>\n",
       "      <th>1215</th>\n",
       "      <td>1216</td>\n",
       "      <td>US-2018-118087</td>\n",
       "      <td>09/09/2018</td>\n",
       "      <td>13/09/2018</td>\n",
       "      <td>Standard Class</td>\n",
       "      <td>SP-20620</td>\n",
       "      <td>Stefania Perrino</td>\n",
       "      <td>Corporate</td>\n",
       "      <td>United States</td>\n",
       "      <td>Philadelphia</td>\n",
       "      <td>Pennsylvania</td>\n",
       "      <td>19134.0</td>\n",
       "      <td>East</td>\n",
       "      <td>OFF-AR-10003602</td>\n",
       "      <td>Office Supplies</td>\n",
       "      <td>Art</td>\n",
       "      <td>Quartet Omega Colored Chalk, 12/Pack</td>\n",
       "      <td>4.672</td>\n",
       "    </tr>\n",
       "    <tr>\n",
       "      <th>4725</th>\n",
       "      <td>4726</td>\n",
       "      <td>CA-2017-131968</td>\n",
       "      <td>11/11/2017</td>\n",
       "      <td>15/11/2017</td>\n",
       "      <td>Standard Class</td>\n",
       "      <td>LB-16795</td>\n",
       "      <td>Laurel Beltran</td>\n",
       "      <td>Home Office</td>\n",
       "      <td>United States</td>\n",
       "      <td>Apopka</td>\n",
       "      <td>Florida</td>\n",
       "      <td>32712.0</td>\n",
       "      <td>South</td>\n",
       "      <td>OFF-AP-10001058</td>\n",
       "      <td>Office Supplies</td>\n",
       "      <td>Appliances</td>\n",
       "      <td>Sanyo 2.5 Cubic Foot Mid-Size Office Refrigera...</td>\n",
       "      <td>671.544</td>\n",
       "    </tr>\n",
       "    <tr>\n",
       "      <th>5958</th>\n",
       "      <td>5959</td>\n",
       "      <td>CA-2017-127138</td>\n",
       "      <td>12/03/2017</td>\n",
       "      <td>15/03/2017</td>\n",
       "      <td>Second Class</td>\n",
       "      <td>DK-13225</td>\n",
       "      <td>Dean Katz</td>\n",
       "      <td>Corporate</td>\n",
       "      <td>United States</td>\n",
       "      <td>San Francisco</td>\n",
       "      <td>California</td>\n",
       "      <td>94109.0</td>\n",
       "      <td>West</td>\n",
       "      <td>OFF-EN-10004459</td>\n",
       "      <td>Office Supplies</td>\n",
       "      <td>Envelopes</td>\n",
       "      <td>Security-Tint Envelopes</td>\n",
       "      <td>30.560</td>\n",
       "    </tr>\n",
       "    <tr>\n",
       "      <th>2260</th>\n",
       "      <td>2261</td>\n",
       "      <td>CA-2016-117611</td>\n",
       "      <td>08/11/2016</td>\n",
       "      <td>10/11/2016</td>\n",
       "      <td>Second Class</td>\n",
       "      <td>MZ-17335</td>\n",
       "      <td>Maria Zettner</td>\n",
       "      <td>Home Office</td>\n",
       "      <td>United States</td>\n",
       "      <td>San Diego</td>\n",
       "      <td>California</td>\n",
       "      <td>92024.0</td>\n",
       "      <td>West</td>\n",
       "      <td>TEC-AC-10002049</td>\n",
       "      <td>Technology</td>\n",
       "      <td>Accessories</td>\n",
       "      <td>Logitech G19 Programmable Gaming Keyboard</td>\n",
       "      <td>371.970</td>\n",
       "    </tr>\n",
       "    <tr>\n",
       "      <th>6868</th>\n",
       "      <td>6869</td>\n",
       "      <td>US-2017-126452</td>\n",
       "      <td>21/08/2017</td>\n",
       "      <td>28/08/2017</td>\n",
       "      <td>Standard Class</td>\n",
       "      <td>SC-20230</td>\n",
       "      <td>Scot Coram</td>\n",
       "      <td>Corporate</td>\n",
       "      <td>United States</td>\n",
       "      <td>Los Angeles</td>\n",
       "      <td>California</td>\n",
       "      <td>90004.0</td>\n",
       "      <td>West</td>\n",
       "      <td>FUR-TA-10003569</td>\n",
       "      <td>Furniture</td>\n",
       "      <td>Tables</td>\n",
       "      <td>Bretford CR8500 Series Meeting Room Furniture</td>\n",
       "      <td>2887.056</td>\n",
       "    </tr>\n",
       "    <tr>\n",
       "      <th>1528</th>\n",
       "      <td>1529</td>\n",
       "      <td>CA-2016-148432</td>\n",
       "      <td>07/11/2016</td>\n",
       "      <td>10/11/2016</td>\n",
       "      <td>Second Class</td>\n",
       "      <td>MC-18130</td>\n",
       "      <td>Mike Caudle</td>\n",
       "      <td>Corporate</td>\n",
       "      <td>United States</td>\n",
       "      <td>Newark</td>\n",
       "      <td>Delaware</td>\n",
       "      <td>19711.0</td>\n",
       "      <td>East</td>\n",
       "      <td>OFF-FA-10004968</td>\n",
       "      <td>Office Supplies</td>\n",
       "      <td>Fasteners</td>\n",
       "      <td>Rubber Band Ball</td>\n",
       "      <td>26.180</td>\n",
       "    </tr>\n",
       "    <tr>\n",
       "      <th>1145</th>\n",
       "      <td>1146</td>\n",
       "      <td>CA-2015-146969</td>\n",
       "      <td>29/09/2015</td>\n",
       "      <td>03/10/2015</td>\n",
       "      <td>Standard Class</td>\n",
       "      <td>AP-10915</td>\n",
       "      <td>Arthur Prichep</td>\n",
       "      <td>Consumer</td>\n",
       "      <td>United States</td>\n",
       "      <td>Los Angeles</td>\n",
       "      <td>California</td>\n",
       "      <td>90045.0</td>\n",
       "      <td>West</td>\n",
       "      <td>OFF-ST-10004340</td>\n",
       "      <td>Office Supplies</td>\n",
       "      <td>Storage</td>\n",
       "      <td>Fellowes Mobile File Cart, Black</td>\n",
       "      <td>62.180</td>\n",
       "    </tr>\n",
       "    <tr>\n",
       "      <th>1342</th>\n",
       "      <td>1343</td>\n",
       "      <td>CA-2018-113481</td>\n",
       "      <td>02/01/2018</td>\n",
       "      <td>04/01/2018</td>\n",
       "      <td>First Class</td>\n",
       "      <td>AS-10045</td>\n",
       "      <td>Aaron Smayling</td>\n",
       "      <td>Corporate</td>\n",
       "      <td>United States</td>\n",
       "      <td>Jacksonville</td>\n",
       "      <td>North Carolina</td>\n",
       "      <td>28540.0</td>\n",
       "      <td>South</td>\n",
       "      <td>OFF-BI-10000474</td>\n",
       "      <td>Office Supplies</td>\n",
       "      <td>Binders</td>\n",
       "      <td>Avery Recycled Flexi-View Covers for Binding S...</td>\n",
       "      <td>28.854</td>\n",
       "    </tr>\n",
       "    <tr>\n",
       "      <th>5018</th>\n",
       "      <td>5019</td>\n",
       "      <td>CA-2015-127558</td>\n",
       "      <td>15/11/2015</td>\n",
       "      <td>18/11/2015</td>\n",
       "      <td>First Class</td>\n",
       "      <td>SS-20410</td>\n",
       "      <td>Shahid Shariari</td>\n",
       "      <td>Consumer</td>\n",
       "      <td>United States</td>\n",
       "      <td>Los Angeles</td>\n",
       "      <td>California</td>\n",
       "      <td>90008.0</td>\n",
       "      <td>West</td>\n",
       "      <td>TEC-AC-10003832</td>\n",
       "      <td>Technology</td>\n",
       "      <td>Accessories</td>\n",
       "      <td>Logitech P710e Mobile Speakerphone</td>\n",
       "      <td>772.470</td>\n",
       "    </tr>\n",
       "  </tbody>\n",
       "</table>\n",
       "</div>"
      ],
      "text/plain": [
       "      Row ID        Order ID  Order Date   Ship Date       Ship Mode  \\\n",
       "6086    6087  US-2017-132577  22/11/2017  27/11/2017  Standard Class   \n",
       "1215    1216  US-2018-118087  09/09/2018  13/09/2018  Standard Class   \n",
       "4725    4726  CA-2017-131968  11/11/2017  15/11/2017  Standard Class   \n",
       "5958    5959  CA-2017-127138  12/03/2017  15/03/2017    Second Class   \n",
       "2260    2261  CA-2016-117611  08/11/2016  10/11/2016    Second Class   \n",
       "6868    6869  US-2017-126452  21/08/2017  28/08/2017  Standard Class   \n",
       "1528    1529  CA-2016-148432  07/11/2016  10/11/2016    Second Class   \n",
       "1145    1146  CA-2015-146969  29/09/2015  03/10/2015  Standard Class   \n",
       "1342    1343  CA-2018-113481  02/01/2018  04/01/2018     First Class   \n",
       "5018    5019  CA-2015-127558  15/11/2015  18/11/2015     First Class   \n",
       "\n",
       "     Customer ID     Customer Name      Segment        Country           City  \\\n",
       "6086    JE-15475    Jeremy Ellison     Consumer  United States        Houston   \n",
       "1215    SP-20620  Stefania Perrino    Corporate  United States   Philadelphia   \n",
       "4725    LB-16795    Laurel Beltran  Home Office  United States         Apopka   \n",
       "5958    DK-13225         Dean Katz    Corporate  United States  San Francisco   \n",
       "2260    MZ-17335     Maria Zettner  Home Office  United States      San Diego   \n",
       "6868    SC-20230        Scot Coram    Corporate  United States    Los Angeles   \n",
       "1528    MC-18130       Mike Caudle    Corporate  United States         Newark   \n",
       "1145    AP-10915    Arthur Prichep     Consumer  United States    Los Angeles   \n",
       "1342    AS-10045    Aaron Smayling    Corporate  United States   Jacksonville   \n",
       "5018    SS-20410   Shahid Shariari     Consumer  United States    Los Angeles   \n",
       "\n",
       "               State  Postal Code   Region       Product ID         Category  \\\n",
       "6086           Texas      77095.0  Central  OFF-BI-10003196  Office Supplies   \n",
       "1215    Pennsylvania      19134.0     East  OFF-AR-10003602  Office Supplies   \n",
       "4725         Florida      32712.0    South  OFF-AP-10001058  Office Supplies   \n",
       "5958      California      94109.0     West  OFF-EN-10004459  Office Supplies   \n",
       "2260      California      92024.0     West  TEC-AC-10002049       Technology   \n",
       "6868      California      90004.0     West  FUR-TA-10003569        Furniture   \n",
       "1528        Delaware      19711.0     East  OFF-FA-10004968  Office Supplies   \n",
       "1145      California      90045.0     West  OFF-ST-10004340  Office Supplies   \n",
       "1342  North Carolina      28540.0    South  OFF-BI-10000474  Office Supplies   \n",
       "5018      California      90008.0     West  TEC-AC-10003832       Technology   \n",
       "\n",
       "     Sub-Category                                       Product Name     Sales  \n",
       "6086      Binders                Accohide Poly Flexible Ring Binders     4.488  \n",
       "1215          Art               Quartet Omega Colored Chalk, 12/Pack     4.672  \n",
       "4725   Appliances  Sanyo 2.5 Cubic Foot Mid-Size Office Refrigera...   671.544  \n",
       "5958    Envelopes                            Security-Tint Envelopes    30.560  \n",
       "2260  Accessories          Logitech G19 Programmable Gaming Keyboard   371.970  \n",
       "6868       Tables      Bretford CR8500 Series Meeting Room Furniture  2887.056  \n",
       "1528    Fasteners                                   Rubber Band Ball    26.180  \n",
       "1145      Storage                   Fellowes Mobile File Cart, Black    62.180  \n",
       "1342      Binders  Avery Recycled Flexi-View Covers for Binding S...    28.854  \n",
       "5018  Accessories                 Logitech P710e Mobile Speakerphone   772.470  "
      ]
     },
     "execution_count": 5,
     "metadata": {},
     "output_type": "execute_result"
    }
   ],
   "source": [
    "# see a random sample from the data \n",
    "df.sample(10)"
   ]
  },
  {
   "cell_type": "code",
   "execution_count": 6,
   "id": "fe789efc",
   "metadata": {
    "execution": {
     "iopub.execute_input": "2024-08-30T14:32:38.788398Z",
     "iopub.status.busy": "2024-08-30T14:32:38.787320Z",
     "iopub.status.idle": "2024-08-30T14:32:38.828934Z",
     "shell.execute_reply": "2024-08-30T14:32:38.827845Z"
    },
    "papermill": {
     "duration": 0.0586,
     "end_time": "2024-08-30T14:32:38.831625",
     "exception": false,
     "start_time": "2024-08-30T14:32:38.773025",
     "status": "completed"
    },
    "tags": []
   },
   "outputs": [
    {
     "data": {
      "text/html": [
       "<div>\n",
       "<style scoped>\n",
       "    .dataframe tbody tr th:only-of-type {\n",
       "        vertical-align: middle;\n",
       "    }\n",
       "\n",
       "    .dataframe tbody tr th {\n",
       "        vertical-align: top;\n",
       "    }\n",
       "\n",
       "    .dataframe thead th {\n",
       "        text-align: right;\n",
       "    }\n",
       "</style>\n",
       "<table border=\"1\" class=\"dataframe\">\n",
       "  <thead>\n",
       "    <tr style=\"text-align: right;\">\n",
       "      <th></th>\n",
       "      <th>Row ID</th>\n",
       "      <th>Order ID</th>\n",
       "      <th>Order Date</th>\n",
       "      <th>Ship Date</th>\n",
       "      <th>Ship Mode</th>\n",
       "      <th>Customer ID</th>\n",
       "      <th>Customer Name</th>\n",
       "      <th>Segment</th>\n",
       "      <th>Country</th>\n",
       "      <th>City</th>\n",
       "      <th>State</th>\n",
       "      <th>Postal Code</th>\n",
       "      <th>Region</th>\n",
       "      <th>Product ID</th>\n",
       "      <th>Category</th>\n",
       "      <th>Sub-Category</th>\n",
       "      <th>Product Name</th>\n",
       "      <th>Sales</th>\n",
       "    </tr>\n",
       "  </thead>\n",
       "  <tbody>\n",
       "  </tbody>\n",
       "</table>\n",
       "</div>"
      ],
      "text/plain": [
       "Empty DataFrame\n",
       "Columns: [Row ID, Order ID, Order Date, Ship Date, Ship Mode, Customer ID, Customer Name, Segment, Country, City, State, Postal Code, Region, Product ID, Category, Sub-Category, Product Name, Sales]\n",
       "Index: []"
      ]
     },
     "execution_count": 6,
     "metadata": {},
     "output_type": "execute_result"
    }
   ],
   "source": [
    "# Check duplicates\n",
    "df[df.duplicated()]"
   ]
  },
  {
   "cell_type": "code",
   "execution_count": 7,
   "id": "a7542e42",
   "metadata": {
    "execution": {
     "iopub.execute_input": "2024-08-30T14:32:38.860232Z",
     "iopub.status.busy": "2024-08-30T14:32:38.859797Z",
     "iopub.status.idle": "2024-08-30T14:32:38.911118Z",
     "shell.execute_reply": "2024-08-30T14:32:38.909896Z"
    },
    "papermill": {
     "duration": 0.068704,
     "end_time": "2024-08-30T14:32:38.913871",
     "exception": false,
     "start_time": "2024-08-30T14:32:38.845167",
     "status": "completed"
    },
    "tags": []
   },
   "outputs": [
    {
     "data": {
      "text/html": [
       "<div>\n",
       "<style scoped>\n",
       "    .dataframe tbody tr th:only-of-type {\n",
       "        vertical-align: middle;\n",
       "    }\n",
       "\n",
       "    .dataframe tbody tr th {\n",
       "        vertical-align: top;\n",
       "    }\n",
       "\n",
       "    .dataframe thead th {\n",
       "        text-align: right;\n",
       "    }\n",
       "</style>\n",
       "<table border=\"1\" class=\"dataframe\">\n",
       "  <thead>\n",
       "    <tr style=\"text-align: right;\">\n",
       "      <th></th>\n",
       "      <th>Row ID</th>\n",
       "      <th>Order ID</th>\n",
       "      <th>Order Date</th>\n",
       "      <th>Ship Date</th>\n",
       "      <th>Ship Mode</th>\n",
       "      <th>Customer ID</th>\n",
       "      <th>Customer Name</th>\n",
       "      <th>Segment</th>\n",
       "      <th>Country</th>\n",
       "      <th>City</th>\n",
       "      <th>State</th>\n",
       "      <th>Postal Code</th>\n",
       "      <th>Region</th>\n",
       "      <th>Product ID</th>\n",
       "      <th>Category</th>\n",
       "      <th>Sub-Category</th>\n",
       "      <th>Product Name</th>\n",
       "      <th>Sales</th>\n",
       "    </tr>\n",
       "  </thead>\n",
       "  <tbody>\n",
       "    <tr>\n",
       "      <th>0</th>\n",
       "      <td>1</td>\n",
       "      <td>CA-2017-152156</td>\n",
       "      <td>08/11/2017</td>\n",
       "      <td>11/11/2017</td>\n",
       "      <td>Second Class</td>\n",
       "      <td>CG-12520</td>\n",
       "      <td>Claire Gute</td>\n",
       "      <td>Consumer</td>\n",
       "      <td>United States</td>\n",
       "      <td>Henderson</td>\n",
       "      <td>Kentucky</td>\n",
       "      <td>42420.0</td>\n",
       "      <td>South</td>\n",
       "      <td>FUR-BO-10001798</td>\n",
       "      <td>Furniture</td>\n",
       "      <td>Bookcases</td>\n",
       "      <td>Bush Somerset Collection Bookcase</td>\n",
       "      <td>261.9600</td>\n",
       "    </tr>\n",
       "    <tr>\n",
       "      <th>1</th>\n",
       "      <td>2</td>\n",
       "      <td>CA-2017-152156</td>\n",
       "      <td>08/11/2017</td>\n",
       "      <td>11/11/2017</td>\n",
       "      <td>Second Class</td>\n",
       "      <td>CG-12520</td>\n",
       "      <td>Claire Gute</td>\n",
       "      <td>Consumer</td>\n",
       "      <td>United States</td>\n",
       "      <td>Henderson</td>\n",
       "      <td>Kentucky</td>\n",
       "      <td>42420.0</td>\n",
       "      <td>South</td>\n",
       "      <td>FUR-CH-10000454</td>\n",
       "      <td>Furniture</td>\n",
       "      <td>Chairs</td>\n",
       "      <td>Hon Deluxe Fabric Upholstered Stacking Chairs,...</td>\n",
       "      <td>731.9400</td>\n",
       "    </tr>\n",
       "    <tr>\n",
       "      <th>2</th>\n",
       "      <td>3</td>\n",
       "      <td>CA-2017-138688</td>\n",
       "      <td>12/06/2017</td>\n",
       "      <td>16/06/2017</td>\n",
       "      <td>Second Class</td>\n",
       "      <td>DV-13045</td>\n",
       "      <td>Darrin Van Huff</td>\n",
       "      <td>Corporate</td>\n",
       "      <td>United States</td>\n",
       "      <td>Los Angeles</td>\n",
       "      <td>California</td>\n",
       "      <td>90036.0</td>\n",
       "      <td>West</td>\n",
       "      <td>OFF-LA-10000240</td>\n",
       "      <td>Office Supplies</td>\n",
       "      <td>Labels</td>\n",
       "      <td>Self-Adhesive Address Labels for Typewriters b...</td>\n",
       "      <td>14.6200</td>\n",
       "    </tr>\n",
       "    <tr>\n",
       "      <th>3</th>\n",
       "      <td>4</td>\n",
       "      <td>US-2016-108966</td>\n",
       "      <td>11/10/2016</td>\n",
       "      <td>18/10/2016</td>\n",
       "      <td>Standard Class</td>\n",
       "      <td>SO-20335</td>\n",
       "      <td>Sean O'Donnell</td>\n",
       "      <td>Consumer</td>\n",
       "      <td>United States</td>\n",
       "      <td>Fort Lauderdale</td>\n",
       "      <td>Florida</td>\n",
       "      <td>33311.0</td>\n",
       "      <td>South</td>\n",
       "      <td>FUR-TA-10000577</td>\n",
       "      <td>Furniture</td>\n",
       "      <td>Tables</td>\n",
       "      <td>Bretford CR4500 Series Slim Rectangular Table</td>\n",
       "      <td>957.5775</td>\n",
       "    </tr>\n",
       "    <tr>\n",
       "      <th>4</th>\n",
       "      <td>5</td>\n",
       "      <td>US-2016-108966</td>\n",
       "      <td>11/10/2016</td>\n",
       "      <td>18/10/2016</td>\n",
       "      <td>Standard Class</td>\n",
       "      <td>SO-20335</td>\n",
       "      <td>Sean O'Donnell</td>\n",
       "      <td>Consumer</td>\n",
       "      <td>United States</td>\n",
       "      <td>Fort Lauderdale</td>\n",
       "      <td>Florida</td>\n",
       "      <td>33311.0</td>\n",
       "      <td>South</td>\n",
       "      <td>OFF-ST-10000760</td>\n",
       "      <td>Office Supplies</td>\n",
       "      <td>Storage</td>\n",
       "      <td>Eldon Fold 'N Roll Cart System</td>\n",
       "      <td>22.3680</td>\n",
       "    </tr>\n",
       "    <tr>\n",
       "      <th>...</th>\n",
       "      <td>...</td>\n",
       "      <td>...</td>\n",
       "      <td>...</td>\n",
       "      <td>...</td>\n",
       "      <td>...</td>\n",
       "      <td>...</td>\n",
       "      <td>...</td>\n",
       "      <td>...</td>\n",
       "      <td>...</td>\n",
       "      <td>...</td>\n",
       "      <td>...</td>\n",
       "      <td>...</td>\n",
       "      <td>...</td>\n",
       "      <td>...</td>\n",
       "      <td>...</td>\n",
       "      <td>...</td>\n",
       "      <td>...</td>\n",
       "      <td>...</td>\n",
       "    </tr>\n",
       "    <tr>\n",
       "      <th>9795</th>\n",
       "      <td>9796</td>\n",
       "      <td>CA-2017-125920</td>\n",
       "      <td>21/05/2017</td>\n",
       "      <td>28/05/2017</td>\n",
       "      <td>Standard Class</td>\n",
       "      <td>SH-19975</td>\n",
       "      <td>Sally Hughsby</td>\n",
       "      <td>Corporate</td>\n",
       "      <td>United States</td>\n",
       "      <td>Chicago</td>\n",
       "      <td>Illinois</td>\n",
       "      <td>60610.0</td>\n",
       "      <td>Central</td>\n",
       "      <td>OFF-BI-10003429</td>\n",
       "      <td>Office Supplies</td>\n",
       "      <td>Binders</td>\n",
       "      <td>Cardinal HOLDit! Binder Insert Strips,Extra St...</td>\n",
       "      <td>3.7980</td>\n",
       "    </tr>\n",
       "    <tr>\n",
       "      <th>9796</th>\n",
       "      <td>9797</td>\n",
       "      <td>CA-2016-128608</td>\n",
       "      <td>12/01/2016</td>\n",
       "      <td>17/01/2016</td>\n",
       "      <td>Standard Class</td>\n",
       "      <td>CS-12490</td>\n",
       "      <td>Cindy Schnelling</td>\n",
       "      <td>Corporate</td>\n",
       "      <td>United States</td>\n",
       "      <td>Toledo</td>\n",
       "      <td>Ohio</td>\n",
       "      <td>43615.0</td>\n",
       "      <td>East</td>\n",
       "      <td>OFF-AR-10001374</td>\n",
       "      <td>Office Supplies</td>\n",
       "      <td>Art</td>\n",
       "      <td>BIC Brite Liner Highlighters, Chisel Tip</td>\n",
       "      <td>10.3680</td>\n",
       "    </tr>\n",
       "    <tr>\n",
       "      <th>9797</th>\n",
       "      <td>9798</td>\n",
       "      <td>CA-2016-128608</td>\n",
       "      <td>12/01/2016</td>\n",
       "      <td>17/01/2016</td>\n",
       "      <td>Standard Class</td>\n",
       "      <td>CS-12490</td>\n",
       "      <td>Cindy Schnelling</td>\n",
       "      <td>Corporate</td>\n",
       "      <td>United States</td>\n",
       "      <td>Toledo</td>\n",
       "      <td>Ohio</td>\n",
       "      <td>43615.0</td>\n",
       "      <td>East</td>\n",
       "      <td>TEC-PH-10004977</td>\n",
       "      <td>Technology</td>\n",
       "      <td>Phones</td>\n",
       "      <td>GE 30524EE4</td>\n",
       "      <td>235.1880</td>\n",
       "    </tr>\n",
       "    <tr>\n",
       "      <th>9798</th>\n",
       "      <td>9799</td>\n",
       "      <td>CA-2016-128608</td>\n",
       "      <td>12/01/2016</td>\n",
       "      <td>17/01/2016</td>\n",
       "      <td>Standard Class</td>\n",
       "      <td>CS-12490</td>\n",
       "      <td>Cindy Schnelling</td>\n",
       "      <td>Corporate</td>\n",
       "      <td>United States</td>\n",
       "      <td>Toledo</td>\n",
       "      <td>Ohio</td>\n",
       "      <td>43615.0</td>\n",
       "      <td>East</td>\n",
       "      <td>TEC-PH-10000912</td>\n",
       "      <td>Technology</td>\n",
       "      <td>Phones</td>\n",
       "      <td>Anker 24W Portable Micro USB Car Charger</td>\n",
       "      <td>26.3760</td>\n",
       "    </tr>\n",
       "    <tr>\n",
       "      <th>9799</th>\n",
       "      <td>9800</td>\n",
       "      <td>CA-2016-128608</td>\n",
       "      <td>12/01/2016</td>\n",
       "      <td>17/01/2016</td>\n",
       "      <td>Standard Class</td>\n",
       "      <td>CS-12490</td>\n",
       "      <td>Cindy Schnelling</td>\n",
       "      <td>Corporate</td>\n",
       "      <td>United States</td>\n",
       "      <td>Toledo</td>\n",
       "      <td>Ohio</td>\n",
       "      <td>43615.0</td>\n",
       "      <td>East</td>\n",
       "      <td>TEC-AC-10000487</td>\n",
       "      <td>Technology</td>\n",
       "      <td>Accessories</td>\n",
       "      <td>SanDisk Cruzer 4 GB USB Flash Drive</td>\n",
       "      <td>10.3840</td>\n",
       "    </tr>\n",
       "  </tbody>\n",
       "</table>\n",
       "<p>9800 rows × 18 columns</p>\n",
       "</div>"
      ],
      "text/plain": [
       "      Row ID        Order ID  Order Date   Ship Date       Ship Mode  \\\n",
       "0          1  CA-2017-152156  08/11/2017  11/11/2017    Second Class   \n",
       "1          2  CA-2017-152156  08/11/2017  11/11/2017    Second Class   \n",
       "2          3  CA-2017-138688  12/06/2017  16/06/2017    Second Class   \n",
       "3          4  US-2016-108966  11/10/2016  18/10/2016  Standard Class   \n",
       "4          5  US-2016-108966  11/10/2016  18/10/2016  Standard Class   \n",
       "...      ...             ...         ...         ...             ...   \n",
       "9795    9796  CA-2017-125920  21/05/2017  28/05/2017  Standard Class   \n",
       "9796    9797  CA-2016-128608  12/01/2016  17/01/2016  Standard Class   \n",
       "9797    9798  CA-2016-128608  12/01/2016  17/01/2016  Standard Class   \n",
       "9798    9799  CA-2016-128608  12/01/2016  17/01/2016  Standard Class   \n",
       "9799    9800  CA-2016-128608  12/01/2016  17/01/2016  Standard Class   \n",
       "\n",
       "     Customer ID     Customer Name    Segment        Country             City  \\\n",
       "0       CG-12520       Claire Gute   Consumer  United States        Henderson   \n",
       "1       CG-12520       Claire Gute   Consumer  United States        Henderson   \n",
       "2       DV-13045   Darrin Van Huff  Corporate  United States      Los Angeles   \n",
       "3       SO-20335    Sean O'Donnell   Consumer  United States  Fort Lauderdale   \n",
       "4       SO-20335    Sean O'Donnell   Consumer  United States  Fort Lauderdale   \n",
       "...          ...               ...        ...            ...              ...   \n",
       "9795    SH-19975     Sally Hughsby  Corporate  United States          Chicago   \n",
       "9796    CS-12490  Cindy Schnelling  Corporate  United States           Toledo   \n",
       "9797    CS-12490  Cindy Schnelling  Corporate  United States           Toledo   \n",
       "9798    CS-12490  Cindy Schnelling  Corporate  United States           Toledo   \n",
       "9799    CS-12490  Cindy Schnelling  Corporate  United States           Toledo   \n",
       "\n",
       "           State  Postal Code   Region       Product ID         Category  \\\n",
       "0       Kentucky      42420.0    South  FUR-BO-10001798        Furniture   \n",
       "1       Kentucky      42420.0    South  FUR-CH-10000454        Furniture   \n",
       "2     California      90036.0     West  OFF-LA-10000240  Office Supplies   \n",
       "3        Florida      33311.0    South  FUR-TA-10000577        Furniture   \n",
       "4        Florida      33311.0    South  OFF-ST-10000760  Office Supplies   \n",
       "...          ...          ...      ...              ...              ...   \n",
       "9795    Illinois      60610.0  Central  OFF-BI-10003429  Office Supplies   \n",
       "9796        Ohio      43615.0     East  OFF-AR-10001374  Office Supplies   \n",
       "9797        Ohio      43615.0     East  TEC-PH-10004977       Technology   \n",
       "9798        Ohio      43615.0     East  TEC-PH-10000912       Technology   \n",
       "9799        Ohio      43615.0     East  TEC-AC-10000487       Technology   \n",
       "\n",
       "     Sub-Category                                       Product Name     Sales  \n",
       "0       Bookcases                  Bush Somerset Collection Bookcase  261.9600  \n",
       "1          Chairs  Hon Deluxe Fabric Upholstered Stacking Chairs,...  731.9400  \n",
       "2          Labels  Self-Adhesive Address Labels for Typewriters b...   14.6200  \n",
       "3          Tables      Bretford CR4500 Series Slim Rectangular Table  957.5775  \n",
       "4         Storage                     Eldon Fold 'N Roll Cart System   22.3680  \n",
       "...           ...                                                ...       ...  \n",
       "9795      Binders  Cardinal HOLDit! Binder Insert Strips,Extra St...    3.7980  \n",
       "9796          Art           BIC Brite Liner Highlighters, Chisel Tip   10.3680  \n",
       "9797       Phones                                        GE 30524EE4  235.1880  \n",
       "9798       Phones           Anker 24W Portable Micro USB Car Charger   26.3760  \n",
       "9799  Accessories                SanDisk Cruzer 4 GB USB Flash Drive   10.3840  \n",
       "\n",
       "[9800 rows x 18 columns]"
      ]
     },
     "execution_count": 7,
     "metadata": {},
     "output_type": "execute_result"
    }
   ],
   "source": [
    "# drop the duplicates\n",
    "df.drop_duplicates()"
   ]
  },
  {
   "cell_type": "code",
   "execution_count": 8,
   "id": "193ebed5",
   "metadata": {
    "execution": {
     "iopub.execute_input": "2024-08-30T14:32:38.943812Z",
     "iopub.status.busy": "2024-08-30T14:32:38.942732Z",
     "iopub.status.idle": "2024-08-30T14:32:38.961975Z",
     "shell.execute_reply": "2024-08-30T14:32:38.960425Z"
    },
    "papermill": {
     "duration": 0.037499,
     "end_time": "2024-08-30T14:32:38.965181",
     "exception": false,
     "start_time": "2024-08-30T14:32:38.927682",
     "status": "completed"
    },
    "tags": []
   },
   "outputs": [
    {
     "data": {
      "text/plain": [
       "Row ID            0\n",
       "Order ID          0\n",
       "Order Date        0\n",
       "Ship Date         0\n",
       "Ship Mode         0\n",
       "Customer ID       0\n",
       "Customer Name     0\n",
       "Segment           0\n",
       "Country           0\n",
       "City              0\n",
       "State             0\n",
       "Postal Code      11\n",
       "Region            0\n",
       "Product ID        0\n",
       "Category          0\n",
       "Sub-Category      0\n",
       "Product Name      0\n",
       "Sales             0\n",
       "dtype: int64"
      ]
     },
     "execution_count": 8,
     "metadata": {},
     "output_type": "execute_result"
    }
   ],
   "source": [
    "# show the sum of the null values in each column \n",
    "df.isnull().sum()"
   ]
  },
  {
   "cell_type": "code",
   "execution_count": 9,
   "id": "6b5e13df",
   "metadata": {
    "execution": {
     "iopub.execute_input": "2024-08-30T14:32:38.995467Z",
     "iopub.status.busy": "2024-08-30T14:32:38.995013Z",
     "iopub.status.idle": "2024-08-30T14:32:39.022474Z",
     "shell.execute_reply": "2024-08-30T14:32:39.021313Z"
    },
    "papermill": {
     "duration": 0.045272,
     "end_time": "2024-08-30T14:32:39.024957",
     "exception": false,
     "start_time": "2024-08-30T14:32:38.979685",
     "status": "completed"
    },
    "tags": []
   },
   "outputs": [
    {
     "data": {
      "text/html": [
       "<div>\n",
       "<style scoped>\n",
       "    .dataframe tbody tr th:only-of-type {\n",
       "        vertical-align: middle;\n",
       "    }\n",
       "\n",
       "    .dataframe tbody tr th {\n",
       "        vertical-align: top;\n",
       "    }\n",
       "\n",
       "    .dataframe thead th {\n",
       "        text-align: right;\n",
       "    }\n",
       "</style>\n",
       "<table border=\"1\" class=\"dataframe\">\n",
       "  <thead>\n",
       "    <tr style=\"text-align: right;\">\n",
       "      <th></th>\n",
       "      <th>Row ID</th>\n",
       "      <th>Order ID</th>\n",
       "      <th>Order Date</th>\n",
       "      <th>Ship Date</th>\n",
       "      <th>Ship Mode</th>\n",
       "      <th>Customer ID</th>\n",
       "      <th>Customer Name</th>\n",
       "      <th>Segment</th>\n",
       "      <th>Country</th>\n",
       "      <th>City</th>\n",
       "      <th>State</th>\n",
       "      <th>Postal Code</th>\n",
       "      <th>Region</th>\n",
       "      <th>Product ID</th>\n",
       "      <th>Category</th>\n",
       "      <th>Sub-Category</th>\n",
       "      <th>Product Name</th>\n",
       "      <th>Sales</th>\n",
       "    </tr>\n",
       "  </thead>\n",
       "  <tbody>\n",
       "    <tr>\n",
       "      <th>2234</th>\n",
       "      <td>2235</td>\n",
       "      <td>CA-2018-104066</td>\n",
       "      <td>05/12/2018</td>\n",
       "      <td>10/12/2018</td>\n",
       "      <td>Standard Class</td>\n",
       "      <td>QJ-19255</td>\n",
       "      <td>Quincy Jones</td>\n",
       "      <td>Corporate</td>\n",
       "      <td>United States</td>\n",
       "      <td>Burlington</td>\n",
       "      <td>Vermont</td>\n",
       "      <td>NaN</td>\n",
       "      <td>East</td>\n",
       "      <td>TEC-AC-10001013</td>\n",
       "      <td>Technology</td>\n",
       "      <td>Accessories</td>\n",
       "      <td>Logitech ClearChat Comfort/USB Headset H390</td>\n",
       "      <td>205.03</td>\n",
       "    </tr>\n",
       "    <tr>\n",
       "      <th>5274</th>\n",
       "      <td>5275</td>\n",
       "      <td>CA-2016-162887</td>\n",
       "      <td>07/11/2016</td>\n",
       "      <td>09/11/2016</td>\n",
       "      <td>Second Class</td>\n",
       "      <td>SV-20785</td>\n",
       "      <td>Stewart Visinsky</td>\n",
       "      <td>Consumer</td>\n",
       "      <td>United States</td>\n",
       "      <td>Burlington</td>\n",
       "      <td>Vermont</td>\n",
       "      <td>NaN</td>\n",
       "      <td>East</td>\n",
       "      <td>FUR-CH-10000595</td>\n",
       "      <td>Furniture</td>\n",
       "      <td>Chairs</td>\n",
       "      <td>Safco Contoured Stacking Chairs</td>\n",
       "      <td>715.20</td>\n",
       "    </tr>\n",
       "    <tr>\n",
       "      <th>8798</th>\n",
       "      <td>8799</td>\n",
       "      <td>US-2017-150140</td>\n",
       "      <td>06/04/2017</td>\n",
       "      <td>10/04/2017</td>\n",
       "      <td>Standard Class</td>\n",
       "      <td>VM-21685</td>\n",
       "      <td>Valerie Mitchum</td>\n",
       "      <td>Home Office</td>\n",
       "      <td>United States</td>\n",
       "      <td>Burlington</td>\n",
       "      <td>Vermont</td>\n",
       "      <td>NaN</td>\n",
       "      <td>East</td>\n",
       "      <td>TEC-PH-10002555</td>\n",
       "      <td>Technology</td>\n",
       "      <td>Phones</td>\n",
       "      <td>Nortel Meridian M5316 Digital phone</td>\n",
       "      <td>1294.75</td>\n",
       "    </tr>\n",
       "    <tr>\n",
       "      <th>9146</th>\n",
       "      <td>9147</td>\n",
       "      <td>US-2017-165505</td>\n",
       "      <td>23/01/2017</td>\n",
       "      <td>27/01/2017</td>\n",
       "      <td>Standard Class</td>\n",
       "      <td>CB-12535</td>\n",
       "      <td>Claudia Bergmann</td>\n",
       "      <td>Corporate</td>\n",
       "      <td>United States</td>\n",
       "      <td>Burlington</td>\n",
       "      <td>Vermont</td>\n",
       "      <td>NaN</td>\n",
       "      <td>East</td>\n",
       "      <td>TEC-AC-10002926</td>\n",
       "      <td>Technology</td>\n",
       "      <td>Accessories</td>\n",
       "      <td>Logitech Wireless Marathon Mouse M705</td>\n",
       "      <td>99.98</td>\n",
       "    </tr>\n",
       "    <tr>\n",
       "      <th>9147</th>\n",
       "      <td>9148</td>\n",
       "      <td>US-2017-165505</td>\n",
       "      <td>23/01/2017</td>\n",
       "      <td>27/01/2017</td>\n",
       "      <td>Standard Class</td>\n",
       "      <td>CB-12535</td>\n",
       "      <td>Claudia Bergmann</td>\n",
       "      <td>Corporate</td>\n",
       "      <td>United States</td>\n",
       "      <td>Burlington</td>\n",
       "      <td>Vermont</td>\n",
       "      <td>NaN</td>\n",
       "      <td>East</td>\n",
       "      <td>OFF-AR-10003477</td>\n",
       "      <td>Office Supplies</td>\n",
       "      <td>Art</td>\n",
       "      <td>4009 Highlighters</td>\n",
       "      <td>8.04</td>\n",
       "    </tr>\n",
       "    <tr>\n",
       "      <th>9148</th>\n",
       "      <td>9149</td>\n",
       "      <td>US-2017-165505</td>\n",
       "      <td>23/01/2017</td>\n",
       "      <td>27/01/2017</td>\n",
       "      <td>Standard Class</td>\n",
       "      <td>CB-12535</td>\n",
       "      <td>Claudia Bergmann</td>\n",
       "      <td>Corporate</td>\n",
       "      <td>United States</td>\n",
       "      <td>Burlington</td>\n",
       "      <td>Vermont</td>\n",
       "      <td>NaN</td>\n",
       "      <td>East</td>\n",
       "      <td>OFF-ST-10001526</td>\n",
       "      <td>Office Supplies</td>\n",
       "      <td>Storage</td>\n",
       "      <td>Iceberg Mobile Mega Data/Printer Cart</td>\n",
       "      <td>1564.29</td>\n",
       "    </tr>\n",
       "    <tr>\n",
       "      <th>9386</th>\n",
       "      <td>9387</td>\n",
       "      <td>US-2018-127292</td>\n",
       "      <td>19/01/2018</td>\n",
       "      <td>23/01/2018</td>\n",
       "      <td>Standard Class</td>\n",
       "      <td>RM-19375</td>\n",
       "      <td>Raymond Messe</td>\n",
       "      <td>Consumer</td>\n",
       "      <td>United States</td>\n",
       "      <td>Burlington</td>\n",
       "      <td>Vermont</td>\n",
       "      <td>NaN</td>\n",
       "      <td>East</td>\n",
       "      <td>OFF-PA-10000157</td>\n",
       "      <td>Office Supplies</td>\n",
       "      <td>Paper</td>\n",
       "      <td>Xerox 191</td>\n",
       "      <td>79.92</td>\n",
       "    </tr>\n",
       "    <tr>\n",
       "      <th>9387</th>\n",
       "      <td>9388</td>\n",
       "      <td>US-2018-127292</td>\n",
       "      <td>19/01/2018</td>\n",
       "      <td>23/01/2018</td>\n",
       "      <td>Standard Class</td>\n",
       "      <td>RM-19375</td>\n",
       "      <td>Raymond Messe</td>\n",
       "      <td>Consumer</td>\n",
       "      <td>United States</td>\n",
       "      <td>Burlington</td>\n",
       "      <td>Vermont</td>\n",
       "      <td>NaN</td>\n",
       "      <td>East</td>\n",
       "      <td>OFF-PA-10001970</td>\n",
       "      <td>Office Supplies</td>\n",
       "      <td>Paper</td>\n",
       "      <td>Xerox 1881</td>\n",
       "      <td>12.28</td>\n",
       "    </tr>\n",
       "    <tr>\n",
       "      <th>9388</th>\n",
       "      <td>9389</td>\n",
       "      <td>US-2018-127292</td>\n",
       "      <td>19/01/2018</td>\n",
       "      <td>23/01/2018</td>\n",
       "      <td>Standard Class</td>\n",
       "      <td>RM-19375</td>\n",
       "      <td>Raymond Messe</td>\n",
       "      <td>Consumer</td>\n",
       "      <td>United States</td>\n",
       "      <td>Burlington</td>\n",
       "      <td>Vermont</td>\n",
       "      <td>NaN</td>\n",
       "      <td>East</td>\n",
       "      <td>OFF-AP-10000828</td>\n",
       "      <td>Office Supplies</td>\n",
       "      <td>Appliances</td>\n",
       "      <td>Avanti 4.4 Cu. Ft. Refrigerator</td>\n",
       "      <td>542.94</td>\n",
       "    </tr>\n",
       "    <tr>\n",
       "      <th>9389</th>\n",
       "      <td>9390</td>\n",
       "      <td>US-2018-127292</td>\n",
       "      <td>19/01/2018</td>\n",
       "      <td>23/01/2018</td>\n",
       "      <td>Standard Class</td>\n",
       "      <td>RM-19375</td>\n",
       "      <td>Raymond Messe</td>\n",
       "      <td>Consumer</td>\n",
       "      <td>United States</td>\n",
       "      <td>Burlington</td>\n",
       "      <td>Vermont</td>\n",
       "      <td>NaN</td>\n",
       "      <td>East</td>\n",
       "      <td>OFF-EN-10001509</td>\n",
       "      <td>Office Supplies</td>\n",
       "      <td>Envelopes</td>\n",
       "      <td>Poly String Tie Envelopes</td>\n",
       "      <td>2.04</td>\n",
       "    </tr>\n",
       "    <tr>\n",
       "      <th>9741</th>\n",
       "      <td>9742</td>\n",
       "      <td>CA-2016-117086</td>\n",
       "      <td>08/11/2016</td>\n",
       "      <td>12/11/2016</td>\n",
       "      <td>Standard Class</td>\n",
       "      <td>QJ-19255</td>\n",
       "      <td>Quincy Jones</td>\n",
       "      <td>Corporate</td>\n",
       "      <td>United States</td>\n",
       "      <td>Burlington</td>\n",
       "      <td>Vermont</td>\n",
       "      <td>NaN</td>\n",
       "      <td>East</td>\n",
       "      <td>FUR-BO-10004834</td>\n",
       "      <td>Furniture</td>\n",
       "      <td>Bookcases</td>\n",
       "      <td>Riverside Palais Royal Lawyers Bookcase, Royal...</td>\n",
       "      <td>4404.90</td>\n",
       "    </tr>\n",
       "  </tbody>\n",
       "</table>\n",
       "</div>"
      ],
      "text/plain": [
       "      Row ID        Order ID  Order Date   Ship Date       Ship Mode  \\\n",
       "2234    2235  CA-2018-104066  05/12/2018  10/12/2018  Standard Class   \n",
       "5274    5275  CA-2016-162887  07/11/2016  09/11/2016    Second Class   \n",
       "8798    8799  US-2017-150140  06/04/2017  10/04/2017  Standard Class   \n",
       "9146    9147  US-2017-165505  23/01/2017  27/01/2017  Standard Class   \n",
       "9147    9148  US-2017-165505  23/01/2017  27/01/2017  Standard Class   \n",
       "9148    9149  US-2017-165505  23/01/2017  27/01/2017  Standard Class   \n",
       "9386    9387  US-2018-127292  19/01/2018  23/01/2018  Standard Class   \n",
       "9387    9388  US-2018-127292  19/01/2018  23/01/2018  Standard Class   \n",
       "9388    9389  US-2018-127292  19/01/2018  23/01/2018  Standard Class   \n",
       "9389    9390  US-2018-127292  19/01/2018  23/01/2018  Standard Class   \n",
       "9741    9742  CA-2016-117086  08/11/2016  12/11/2016  Standard Class   \n",
       "\n",
       "     Customer ID     Customer Name      Segment        Country        City  \\\n",
       "2234    QJ-19255      Quincy Jones    Corporate  United States  Burlington   \n",
       "5274    SV-20785  Stewart Visinsky     Consumer  United States  Burlington   \n",
       "8798    VM-21685   Valerie Mitchum  Home Office  United States  Burlington   \n",
       "9146    CB-12535  Claudia Bergmann    Corporate  United States  Burlington   \n",
       "9147    CB-12535  Claudia Bergmann    Corporate  United States  Burlington   \n",
       "9148    CB-12535  Claudia Bergmann    Corporate  United States  Burlington   \n",
       "9386    RM-19375     Raymond Messe     Consumer  United States  Burlington   \n",
       "9387    RM-19375     Raymond Messe     Consumer  United States  Burlington   \n",
       "9388    RM-19375     Raymond Messe     Consumer  United States  Burlington   \n",
       "9389    RM-19375     Raymond Messe     Consumer  United States  Burlington   \n",
       "9741    QJ-19255      Quincy Jones    Corporate  United States  Burlington   \n",
       "\n",
       "        State  Postal Code Region       Product ID         Category  \\\n",
       "2234  Vermont          NaN   East  TEC-AC-10001013       Technology   \n",
       "5274  Vermont          NaN   East  FUR-CH-10000595        Furniture   \n",
       "8798  Vermont          NaN   East  TEC-PH-10002555       Technology   \n",
       "9146  Vermont          NaN   East  TEC-AC-10002926       Technology   \n",
       "9147  Vermont          NaN   East  OFF-AR-10003477  Office Supplies   \n",
       "9148  Vermont          NaN   East  OFF-ST-10001526  Office Supplies   \n",
       "9386  Vermont          NaN   East  OFF-PA-10000157  Office Supplies   \n",
       "9387  Vermont          NaN   East  OFF-PA-10001970  Office Supplies   \n",
       "9388  Vermont          NaN   East  OFF-AP-10000828  Office Supplies   \n",
       "9389  Vermont          NaN   East  OFF-EN-10001509  Office Supplies   \n",
       "9741  Vermont          NaN   East  FUR-BO-10004834        Furniture   \n",
       "\n",
       "     Sub-Category                                       Product Name    Sales  \n",
       "2234  Accessories        Logitech ClearChat Comfort/USB Headset H390   205.03  \n",
       "5274       Chairs                    Safco Contoured Stacking Chairs   715.20  \n",
       "8798       Phones                Nortel Meridian M5316 Digital phone  1294.75  \n",
       "9146  Accessories              Logitech Wireless Marathon Mouse M705    99.98  \n",
       "9147          Art                                  4009 Highlighters     8.04  \n",
       "9148      Storage              Iceberg Mobile Mega Data/Printer Cart  1564.29  \n",
       "9386        Paper                                          Xerox 191    79.92  \n",
       "9387        Paper                                         Xerox 1881    12.28  \n",
       "9388   Appliances                    Avanti 4.4 Cu. Ft. Refrigerator   542.94  \n",
       "9389    Envelopes                          Poly String Tie Envelopes     2.04  \n",
       "9741    Bookcases  Riverside Palais Royal Lawyers Bookcase, Royal...  4404.90  "
      ]
     },
     "execution_count": 9,
     "metadata": {},
     "output_type": "execute_result"
    }
   ],
   "source": [
    "# show all the null row in the postalcode column \n",
    "df[df['Postal Code'].isnull()]"
   ]
  },
  {
   "cell_type": "code",
   "execution_count": 10,
   "id": "deeac9d7",
   "metadata": {
    "execution": {
     "iopub.execute_input": "2024-08-30T14:32:39.056274Z",
     "iopub.status.busy": "2024-08-30T14:32:39.055821Z",
     "iopub.status.idle": "2024-08-30T14:32:39.062266Z",
     "shell.execute_reply": "2024-08-30T14:32:39.061297Z"
    },
    "papermill": {
     "duration": 0.025472,
     "end_time": "2024-08-30T14:32:39.064872",
     "exception": false,
     "start_time": "2024-08-30T14:32:39.039400",
     "status": "completed"
    },
    "tags": []
   },
   "outputs": [],
   "source": [
    "# after looikng at the null values , i notices that all the null value for 'Burlington' city , so i searched google about this country postal code and fill the na with it ^_^\n",
    "df['Postal Code'] = df['Postal Code'].fillna(5401)"
   ]
  },
  {
   "cell_type": "code",
   "execution_count": 11,
   "id": "7fa55284",
   "metadata": {
    "execution": {
     "iopub.execute_input": "2024-08-30T14:32:39.095359Z",
     "iopub.status.busy": "2024-08-30T14:32:39.094948Z",
     "iopub.status.idle": "2024-08-30T14:32:39.112806Z",
     "shell.execute_reply": "2024-08-30T14:32:39.111566Z"
    },
    "papermill": {
     "duration": 0.036155,
     "end_time": "2024-08-30T14:32:39.115418",
     "exception": false,
     "start_time": "2024-08-30T14:32:39.079263",
     "status": "completed"
    },
    "tags": []
   },
   "outputs": [
    {
     "data": {
      "text/plain": [
       "Row ID           0\n",
       "Order ID         0\n",
       "Order Date       0\n",
       "Ship Date        0\n",
       "Ship Mode        0\n",
       "Customer ID      0\n",
       "Customer Name    0\n",
       "Segment          0\n",
       "Country          0\n",
       "City             0\n",
       "State            0\n",
       "Postal Code      0\n",
       "Region           0\n",
       "Product ID       0\n",
       "Category         0\n",
       "Sub-Category     0\n",
       "Product Name     0\n",
       "Sales            0\n",
       "dtype: int64"
      ]
     },
     "execution_count": 11,
     "metadata": {},
     "output_type": "execute_result"
    }
   ],
   "source": [
    "# now we do not have any null values \n",
    "df.isnull().sum()"
   ]
  },
  {
   "cell_type": "code",
   "execution_count": 12,
   "id": "61fa3a0c",
   "metadata": {
    "execution": {
     "iopub.execute_input": "2024-08-30T14:32:39.147879Z",
     "iopub.status.busy": "2024-08-30T14:32:39.146362Z",
     "iopub.status.idle": "2024-08-30T14:32:39.174236Z",
     "shell.execute_reply": "2024-08-30T14:32:39.172803Z"
    },
    "papermill": {
     "duration": 0.047336,
     "end_time": "2024-08-30T14:32:39.177362",
     "exception": false,
     "start_time": "2024-08-30T14:32:39.130026",
     "status": "completed"
    },
    "tags": []
   },
   "outputs": [
    {
     "name": "stdout",
     "output_type": "stream",
     "text": [
      "<class 'pandas.core.frame.DataFrame'>\n",
      "RangeIndex: 9800 entries, 0 to 9799\n",
      "Data columns (total 18 columns):\n",
      " #   Column         Non-Null Count  Dtype  \n",
      "---  ------         --------------  -----  \n",
      " 0   Row ID         9800 non-null   int64  \n",
      " 1   Order ID       9800 non-null   object \n",
      " 2   Order Date     9800 non-null   object \n",
      " 3   Ship Date      9800 non-null   object \n",
      " 4   Ship Mode      9800 non-null   object \n",
      " 5   Customer ID    9800 non-null   object \n",
      " 6   Customer Name  9800 non-null   object \n",
      " 7   Segment        9800 non-null   object \n",
      " 8   Country        9800 non-null   object \n",
      " 9   City           9800 non-null   object \n",
      " 10  State          9800 non-null   object \n",
      " 11  Postal Code    9800 non-null   float64\n",
      " 12  Region         9800 non-null   object \n",
      " 13  Product ID     9800 non-null   object \n",
      " 14  Category       9800 non-null   object \n",
      " 15  Sub-Category   9800 non-null   object \n",
      " 16  Product Name   9800 non-null   object \n",
      " 17  Sales          9800 non-null   float64\n",
      "dtypes: float64(2), int64(1), object(15)\n",
      "memory usage: 1.3+ MB\n"
     ]
    }
   ],
   "source": [
    "# get info about the data \n",
    "df.info()"
   ]
  },
  {
   "cell_type": "code",
   "execution_count": 13,
   "id": "30945c42",
   "metadata": {
    "execution": {
     "iopub.execute_input": "2024-08-30T14:32:39.208571Z",
     "iopub.status.busy": "2024-08-30T14:32:39.208164Z",
     "iopub.status.idle": "2024-08-30T14:32:39.233066Z",
     "shell.execute_reply": "2024-08-30T14:32:39.231997Z"
    },
    "papermill": {
     "duration": 0.043839,
     "end_time": "2024-08-30T14:32:39.235907",
     "exception": false,
     "start_time": "2024-08-30T14:32:39.192068",
     "status": "completed"
    },
    "tags": []
   },
   "outputs": [],
   "source": [
    "# convert Ship Date , Order Date to date\n",
    "df['Order Date'] = pd.to_datetime(df['Order Date'],format='%d/%m/%Y')\n",
    "df['Ship Date'] = pd.to_datetime(df['Ship Date'],format='%d/%m/%Y')"
   ]
  },
  {
   "cell_type": "code",
   "execution_count": 14,
   "id": "587958ed",
   "metadata": {
    "execution": {
     "iopub.execute_input": "2024-08-30T14:32:39.267440Z",
     "iopub.status.busy": "2024-08-30T14:32:39.266413Z",
     "iopub.status.idle": "2024-08-30T14:32:39.277079Z",
     "shell.execute_reply": "2024-08-30T14:32:39.276033Z"
    },
    "papermill": {
     "duration": 0.029506,
     "end_time": "2024-08-30T14:32:39.279968",
     "exception": false,
     "start_time": "2024-08-30T14:32:39.250462",
     "status": "completed"
    },
    "tags": []
   },
   "outputs": [],
   "source": [
    "# sort based on column \n",
    "df.sort_values(by=['Order Date'],inplace=True)"
   ]
  },
  {
   "cell_type": "markdown",
   "id": "f77c9bca",
   "metadata": {
    "papermill": {
     "duration": 0.014281,
     "end_time": "2024-08-30T14:32:39.308706",
     "exception": false,
     "start_time": "2024-08-30T14:32:39.294425",
     "status": "completed"
    },
    "tags": []
   },
   "source": [
    "**Let's show some visualization for the data **"
   ]
  },
  {
   "cell_type": "code",
   "execution_count": 15,
   "id": "51ea822d",
   "metadata": {
    "execution": {
     "iopub.execute_input": "2024-08-30T14:32:39.340296Z",
     "iopub.status.busy": "2024-08-30T14:32:39.339141Z",
     "iopub.status.idle": "2024-08-30T14:32:39.349883Z",
     "shell.execute_reply": "2024-08-30T14:32:39.348753Z"
    },
    "papermill": {
     "duration": 0.029429,
     "end_time": "2024-08-30T14:32:39.352568",
     "exception": false,
     "start_time": "2024-08-30T14:32:39.323139",
     "status": "completed"
    },
    "tags": []
   },
   "outputs": [
    {
     "data": {
      "text/plain": [
       "Standard Class    5859\n",
       "Second Class      1902\n",
       "First Class       1501\n",
       "Same Day           538\n",
       "Name: Ship Mode, dtype: int64"
      ]
     },
     "execution_count": 15,
     "metadata": {},
     "output_type": "execute_result"
    }
   ],
   "source": [
    "df['Ship Mode'].value_counts()"
   ]
  },
  {
   "cell_type": "code",
   "execution_count": 16,
   "id": "38538041",
   "metadata": {
    "execution": {
     "iopub.execute_input": "2024-08-30T14:32:39.383863Z",
     "iopub.status.busy": "2024-08-30T14:32:39.383409Z",
     "iopub.status.idle": "2024-08-30T14:32:39.548444Z",
     "shell.execute_reply": "2024-08-30T14:32:39.547122Z"
    },
    "papermill": {
     "duration": 0.184864,
     "end_time": "2024-08-30T14:32:39.552086",
     "exception": false,
     "start_time": "2024-08-30T14:32:39.367222",
     "status": "completed"
    },
    "tags": []
   },
   "outputs": [
    {
     "data": {
      "text/plain": [
       "<AxesSubplot:ylabel='Ship Mode'>"
      ]
     },
     "execution_count": 16,
     "metadata": {},
     "output_type": "execute_result"
    },
    {
     "data": {
      "image/png": "[encoded data removed]",
      "text/plain": [
       "<Figure size 432x288 with 1 Axes>"
      ]
     },
     "metadata": {},
     "output_type": "display_data"
    }
   ],
   "source": [
    "df['Ship Mode'].value_counts().plot.pie()"
   ]
  },
  {
   "cell_type": "code",
   "execution_count": 17,
   "id": "bd285231",
   "metadata": {
    "execution": {
     "iopub.execute_input": "2024-08-30T14:32:39.605836Z",
     "iopub.status.busy": "2024-08-30T14:32:39.604254Z",
     "iopub.status.idle": "2024-08-30T14:32:39.616983Z",
     "shell.execute_reply": "2024-08-30T14:32:39.615736Z"
    },
    "papermill": {
     "duration": 0.04314,
     "end_time": "2024-08-30T14:32:39.620354",
     "exception": false,
     "start_time": "2024-08-30T14:32:39.577214",
     "status": "completed"
    },
    "tags": []
   },
   "outputs": [
    {
     "data": {
      "text/plain": [
       "Consumer       5101\n",
       "Corporate      2953\n",
       "Home Office    1746\n",
       "Name: Segment, dtype: int64"
      ]
     },
     "execution_count": 17,
     "metadata": {},
     "output_type": "execute_result"
    }
   ],
   "source": [
    "df['Segment'].value_counts()"
   ]
  },
  {
   "cell_type": "code",
   "execution_count": 18,
   "id": "5bf32007",
   "metadata": {
    "execution": {
     "iopub.execute_input": "2024-08-30T14:32:39.652695Z",
     "iopub.status.busy": "2024-08-30T14:32:39.652285Z",
     "iopub.status.idle": "2024-08-30T14:32:39.752376Z",
     "shell.execute_reply": "2024-08-30T14:32:39.750626Z"
    },
    "papermill": {
     "duration": 0.12155,
     "end_time": "2024-08-30T14:32:39.757429",
     "exception": false,
     "start_time": "2024-08-30T14:32:39.635879",
     "status": "completed"
    },
    "tags": []
   },
   "outputs": [
    {
     "data": {
      "text/plain": [
       "<AxesSubplot:ylabel='Segment'>"
      ]
     },
     "execution_count": 18,
     "metadata": {},
     "output_type": "execute_result"
    },
    {
     "data": {
      "image/png": "[encoded data removed]",
      "text/plain": [
       "<Figure size 432x288 with 1 Axes>"
      ]
     },
     "metadata": {},
     "output_type": "display_data"
    }
   ],
   "source": [
    "df['Segment'].value_counts().plot.pie()"
   ]
  },
  {
   "cell_type": "code",
   "execution_count": 19,
   "id": "b40c00e9",
   "metadata": {
    "execution": {
     "iopub.execute_input": "2024-08-30T14:32:39.812597Z",
     "iopub.status.busy": "2024-08-30T14:32:39.811407Z",
     "iopub.status.idle": "2024-08-30T14:32:39.824345Z",
     "shell.execute_reply": "2024-08-30T14:32:39.823122Z"
    },
    "papermill": {
     "duration": 0.045087,
     "end_time": "2024-08-30T14:32:39.828586",
     "exception": false,
     "start_time": "2024-08-30T14:32:39.783499",
     "status": "completed"
    },
    "tags": []
   },
   "outputs": [
    {
     "data": {
      "text/plain": [
       "United States    9800\n",
       "Name: Country, dtype: int64"
      ]
     },
     "execution_count": 19,
     "metadata": {},
     "output_type": "execute_result"
    }
   ],
   "source": [
    "df['Country'].value_counts()   # all the sales comes from USA "
   ]
  },
  {
   "cell_type": "code",
   "execution_count": 20,
   "id": "174806ec",
   "metadata": {
    "execution": {
     "iopub.execute_input": "2024-08-30T14:32:39.866996Z",
     "iopub.status.busy": "2024-08-30T14:32:39.866529Z",
     "iopub.status.idle": "2024-08-30T14:32:39.877302Z",
     "shell.execute_reply": "2024-08-30T14:32:39.876132Z"
    },
    "papermill": {
     "duration": 0.030375,
     "end_time": "2024-08-30T14:32:39.880069",
     "exception": false,
     "start_time": "2024-08-30T14:32:39.849694",
     "status": "completed"
    },
    "tags": []
   },
   "outputs": [
    {
     "data": {
      "text/plain": [
       "New York City      891\n",
       "Los Angeles        728\n",
       "Philadelphia       532\n",
       "San Francisco      500\n",
       "Seattle            426\n",
       "                  ... \n",
       "San Luis Obispo      1\n",
       "Manhattan            1\n",
       "Iowa City            1\n",
       "Baytown              1\n",
       "East Orange          1\n",
       "Name: City, Length: 529, dtype: int64"
      ]
     },
     "execution_count": 20,
     "metadata": {},
     "output_type": "execute_result"
    }
   ],
   "source": [
    "df['City'].value_counts()"
   ]
  },
  {
   "cell_type": "code",
   "execution_count": 21,
   "id": "8fa4ac3e",
   "metadata": {
    "execution": {
     "iopub.execute_input": "2024-08-30T14:32:39.913697Z",
     "iopub.status.busy": "2024-08-30T14:32:39.913290Z",
     "iopub.status.idle": "2024-08-30T14:32:44.625449Z",
     "shell.execute_reply": "2024-08-30T14:32:44.623976Z"
    },
    "papermill": {
     "duration": 4.740206,
     "end_time": "2024-08-30T14:32:44.636143",
     "exception": false,
     "start_time": "2024-08-30T14:32:39.895937",
     "status": "completed"
    },
    "tags": []
   },
   "outputs": [
    {
     "data": {
      "text/plain": [
       "<AxesSubplot:ylabel='City'>"
      ]
     },
     "execution_count": 21,
     "metadata": {},
     "output_type": "execute_result"
    },
    {
     "data": {
      "image/png": "[encoded data removed]",
      "text/plain": [
       "<Figure size 1080x720 with 1 Axes>"
      ]
     },
     "metadata": {},
     "output_type": "display_data"
    }
   ],
   "source": [
    "plt.figure(figsize=(15,10))\n",
    "df['City'].value_counts().plot.pie()"
   ]
  },
  {
   "cell_type": "code",
   "execution_count": 22,
   "id": "93fe8d1c",
   "metadata": {
    "execution": {
     "iopub.execute_input": "2024-08-30T14:32:44.692053Z",
     "iopub.status.busy": "2024-08-30T14:32:44.691498Z",
     "iopub.status.idle": "2024-08-30T14:32:45.285548Z",
     "shell.execute_reply": "2024-08-30T14:32:45.284321Z"
    },
    "papermill": {
     "duration": 0.623571,
     "end_time": "2024-08-30T14:32:45.288419",
     "exception": false,
     "start_time": "2024-08-30T14:32:44.664848",
     "status": "completed"
    },
    "tags": []
   },
   "outputs": [
    {
     "name": "stderr",
     "output_type": "stream",
     "text": [
      "/opt/conda/lib/python3.7/site-packages/seaborn/_decorators.py:43: FutureWarning: Pass the following variable as a keyword arg: x. From version 0.12, the only valid positional argument will be `data`, and passing other arguments without an explicit keyword will result in an error or misinterpretation.\n",
      "  FutureWarning\n"
     ]
    },
    {
     "data": {
      "text/plain": [
       "(array([ 0,  1,  2,  3,  4,  5,  6,  7,  8,  9, 10, 11, 12, 13, 14, 15, 16,\n",
       "        17, 18, 19, 20, 21, 22, 23, 24, 25, 26, 27, 28, 29, 30, 31, 32, 33,\n",
       "        34, 35, 36, 37, 38, 39, 40, 41, 42, 43, 44, 45, 46, 47, 48]),\n",
       " [Text(0, 0, 'Texas'),\n",
       "  Text(1, 0, 'Illinois'),\n",
       "  Text(2, 0, 'Pennsylvania'),\n",
       "  Text(3, 0, 'Kentucky'),\n",
       "  Text(4, 0, 'California'),\n",
       "  Text(5, 0, 'Georgia'),\n",
       "  Text(6, 0, 'Virginia'),\n",
       "  Text(7, 0, 'Delaware'),\n",
       "  Text(8, 0, 'Louisiana'),\n",
       "  Text(9, 0, 'Ohio'),\n",
       "  Text(10, 0, 'South Carolina'),\n",
       "  Text(11, 0, 'Oregon'),\n",
       "  Text(12, 0, 'Arizona'),\n",
       "  Text(13, 0, 'Arkansas'),\n",
       "  Text(14, 0, 'Michigan'),\n",
       "  Text(15, 0, 'Tennessee'),\n",
       "  Text(16, 0, 'Nevada'),\n",
       "  Text(17, 0, 'South Dakota'),\n",
       "  Text(18, 0, 'New York'),\n",
       "  Text(19, 0, 'Wisconsin'),\n",
       "  Text(20, 0, 'Florida'),\n",
       "  Text(21, 0, 'Washington'),\n",
       "  Text(22, 0, 'New Jersey'),\n",
       "  Text(23, 0, 'Missouri'),\n",
       "  Text(24, 0, 'Indiana'),\n",
       "  Text(25, 0, 'North Carolina'),\n",
       "  Text(26, 0, 'Colorado'),\n",
       "  Text(27, 0, 'Utah'),\n",
       "  Text(28, 0, 'Mississippi'),\n",
       "  Text(29, 0, 'Minnesota'),\n",
       "  Text(30, 0, 'Iowa'),\n",
       "  Text(31, 0, 'New Mexico'),\n",
       "  Text(32, 0, 'Massachusetts'),\n",
       "  Text(33, 0, 'Alabama'),\n",
       "  Text(34, 0, 'Montana'),\n",
       "  Text(35, 0, 'Idaho'),\n",
       "  Text(36, 0, 'Maryland'),\n",
       "  Text(37, 0, 'Connecticut'),\n",
       "  Text(38, 0, 'New Hampshire'),\n",
       "  Text(39, 0, 'Oklahoma'),\n",
       "  Text(40, 0, 'Nebraska'),\n",
       "  Text(41, 0, 'Maine'),\n",
       "  Text(42, 0, 'Kansas'),\n",
       "  Text(43, 0, 'Rhode Island'),\n",
       "  Text(44, 0, 'District of Columbia'),\n",
       "  Text(45, 0, 'Vermont'),\n",
       "  Text(46, 0, 'Wyoming'),\n",
       "  Text(47, 0, 'North Dakota'),\n",
       "  Text(48, 0, 'West Virginia')])"
      ]
     },
     "execution_count": 22,
     "metadata": {},
     "output_type": "execute_result"
    },
    {
     "data": {
      "image/png": "[encoded data removed]",
      "text/plain": [
       "<Figure size 1152x432 with 1 Axes>"
      ]
     },
     "metadata": {
      "needs_background": "light"
     },
     "output_type": "display_data"
    }
   ],
   "source": [
    "# Visualize category columns\n",
    "plt.figure(figsize=(16,6))\n",
    "sns.countplot('State' , data=df)\n",
    "plt.xticks(rotation='vertical')"
   ]
  },
  {
   "cell_type": "code",
   "execution_count": 23,
   "id": "ff7fb4e4",
   "metadata": {
    "execution": {
     "iopub.execute_input": "2024-08-30T14:32:45.334754Z",
     "iopub.status.busy": "2024-08-30T14:32:45.334335Z",
     "iopub.status.idle": "2024-08-30T14:32:45.357327Z",
     "shell.execute_reply": "2024-08-30T14:32:45.356189Z"
    },
    "papermill": {
     "duration": 0.049026,
     "end_time": "2024-08-30T14:32:45.359842",
     "exception": false,
     "start_time": "2024-08-30T14:32:45.310816",
     "status": "completed"
    },
    "tags": []
   },
   "outputs": [
    {
     "data": {
      "text/html": [
       "<div>\n",
       "<style scoped>\n",
       "    .dataframe tbody tr th:only-of-type {\n",
       "        vertical-align: middle;\n",
       "    }\n",
       "\n",
       "    .dataframe tbody tr th {\n",
       "        vertical-align: top;\n",
       "    }\n",
       "\n",
       "    .dataframe thead th {\n",
       "        text-align: right;\n",
       "    }\n",
       "</style>\n",
       "<table border=\"1\" class=\"dataframe\">\n",
       "  <thead>\n",
       "    <tr style=\"text-align: right;\">\n",
       "      <th></th>\n",
       "      <th>State</th>\n",
       "      <th>Sales</th>\n",
       "    </tr>\n",
       "  </thead>\n",
       "  <tbody>\n",
       "    <tr>\n",
       "      <th>0</th>\n",
       "      <td>California</td>\n",
       "      <td>446306.46</td>\n",
       "    </tr>\n",
       "    <tr>\n",
       "      <th>1</th>\n",
       "      <td>New York</td>\n",
       "      <td>306361.15</td>\n",
       "    </tr>\n",
       "    <tr>\n",
       "      <th>2</th>\n",
       "      <td>Texas</td>\n",
       "      <td>168572.53</td>\n",
       "    </tr>\n",
       "    <tr>\n",
       "      <th>3</th>\n",
       "      <td>Washington</td>\n",
       "      <td>135206.85</td>\n",
       "    </tr>\n",
       "    <tr>\n",
       "      <th>4</th>\n",
       "      <td>Pennsylvania</td>\n",
       "      <td>116276.65</td>\n",
       "    </tr>\n",
       "    <tr>\n",
       "      <th>5</th>\n",
       "      <td>Florida</td>\n",
       "      <td>88436.53</td>\n",
       "    </tr>\n",
       "    <tr>\n",
       "      <th>6</th>\n",
       "      <td>Illinois</td>\n",
       "      <td>79236.52</td>\n",
       "    </tr>\n",
       "    <tr>\n",
       "      <th>7</th>\n",
       "      <td>Michigan</td>\n",
       "      <td>76136.07</td>\n",
       "    </tr>\n",
       "    <tr>\n",
       "      <th>8</th>\n",
       "      <td>Ohio</td>\n",
       "      <td>75130.35</td>\n",
       "    </tr>\n",
       "    <tr>\n",
       "      <th>9</th>\n",
       "      <td>Virginia</td>\n",
       "      <td>70636.72</td>\n",
       "    </tr>\n",
       "  </tbody>\n",
       "</table>\n",
       "</div>"
      ],
      "text/plain": [
       "          State      Sales\n",
       "0    California  446306.46\n",
       "1      New York  306361.15\n",
       "2         Texas  168572.53\n",
       "3    Washington  135206.85\n",
       "4  Pennsylvania  116276.65\n",
       "5       Florida   88436.53\n",
       "6      Illinois   79236.52\n",
       "7      Michigan   76136.07\n",
       "8          Ohio   75130.35\n",
       "9      Virginia   70636.72"
      ]
     },
     "execution_count": 23,
     "metadata": {},
     "output_type": "execute_result"
    }
   ],
   "source": [
    "# top 10 stats\n",
    "top_stats = df.groupby(['State']).sum().sort_values('Sales', ascending=False).head(10)\n",
    "top_stats = top_stats[['Sales']].round(2)\n",
    "top_stats.reset_index(inplace=True)\n",
    "top_stats"
   ]
  },
  {
   "cell_type": "code",
   "execution_count": 24,
   "id": "b83b97fe",
   "metadata": {
    "execution": {
     "iopub.execute_input": "2024-08-30T14:32:45.406172Z",
     "iopub.status.busy": "2024-08-30T14:32:45.405583Z",
     "iopub.status.idle": "2024-08-30T14:32:45.671320Z",
     "shell.execute_reply": "2024-08-30T14:32:45.670123Z"
    },
    "papermill": {
     "duration": 0.291938,
     "end_time": "2024-08-30T14:32:45.673855",
     "exception": false,
     "start_time": "2024-08-30T14:32:45.381917",
     "status": "completed"
    },
    "tags": []
   },
   "outputs": [
    {
     "data": {
      "image/png": "[encoded data removed]",
      "text/plain": [
       "<Figure size 1152x432 with 1 Axes>"
      ]
     },
     "metadata": {
      "needs_background": "light"
     },
     "output_type": "display_data"
    }
   ],
   "source": [
    "# visualize top 10 stats\n",
    "plt.figure(figsize=(16,6))\n",
    "plt.bar(top_stats['State'],top_stats['Sales'] ,color=\"#99ff99\" , edgecolor='green')\n",
    "plt.xticks(rotation='vertical')\n",
    "plt.title('States With High Revenu ',fontsize=15)\n",
    "plt.xlabel('State',fontsize=15)\n",
    "plt.ylabel('Revenu',fontsize=15)\n",
    "\n",
    "for k , v in top_stats['Sales'].items(): \n",
    "    if v > 200000 : \n",
    "        plt.text(k,v-100000,\"$\"+str(v),rotation=90,horizontalalignment='center')\n",
    "    else:\n",
    "        plt.text(k,v-50000,\"$\"+str(v),rotation=90,horizontalalignment='center')"
   ]
  },
  {
   "cell_type": "code",
   "execution_count": 25,
   "id": "e2f6cd93",
   "metadata": {
    "execution": {
     "iopub.execute_input": "2024-08-30T14:32:45.723006Z",
     "iopub.status.busy": "2024-08-30T14:32:45.721783Z",
     "iopub.status.idle": "2024-08-30T14:32:45.744460Z",
     "shell.execute_reply": "2024-08-30T14:32:45.743348Z"
    },
    "papermill": {
     "duration": 0.049421,
     "end_time": "2024-08-30T14:32:45.747021",
     "exception": false,
     "start_time": "2024-08-30T14:32:45.697600",
     "status": "completed"
    },
    "tags": []
   },
   "outputs": [
    {
     "data": {
      "text/html": [
       "<div>\n",
       "<style scoped>\n",
       "    .dataframe tbody tr th:only-of-type {\n",
       "        vertical-align: middle;\n",
       "    }\n",
       "\n",
       "    .dataframe tbody tr th {\n",
       "        vertical-align: top;\n",
       "    }\n",
       "\n",
       "    .dataframe thead th {\n",
       "        text-align: right;\n",
       "    }\n",
       "</style>\n",
       "<table border=\"1\" class=\"dataframe\">\n",
       "  <thead>\n",
       "    <tr style=\"text-align: right;\">\n",
       "      <th></th>\n",
       "      <th>City</th>\n",
       "      <th>Sales</th>\n",
       "    </tr>\n",
       "  </thead>\n",
       "  <tbody>\n",
       "    <tr>\n",
       "      <th>0</th>\n",
       "      <td>New York City</td>\n",
       "      <td>252462.55</td>\n",
       "    </tr>\n",
       "    <tr>\n",
       "      <th>1</th>\n",
       "      <td>Los Angeles</td>\n",
       "      <td>173420.18</td>\n",
       "    </tr>\n",
       "    <tr>\n",
       "      <th>2</th>\n",
       "      <td>Seattle</td>\n",
       "      <td>116106.32</td>\n",
       "    </tr>\n",
       "    <tr>\n",
       "      <th>3</th>\n",
       "      <td>San Francisco</td>\n",
       "      <td>109041.12</td>\n",
       "    </tr>\n",
       "    <tr>\n",
       "      <th>4</th>\n",
       "      <td>Philadelphia</td>\n",
       "      <td>108841.75</td>\n",
       "    </tr>\n",
       "    <tr>\n",
       "      <th>5</th>\n",
       "      <td>Houston</td>\n",
       "      <td>63956.14</td>\n",
       "    </tr>\n",
       "    <tr>\n",
       "      <th>6</th>\n",
       "      <td>Chicago</td>\n",
       "      <td>47820.13</td>\n",
       "    </tr>\n",
       "    <tr>\n",
       "      <th>7</th>\n",
       "      <td>San Diego</td>\n",
       "      <td>47521.03</td>\n",
       "    </tr>\n",
       "    <tr>\n",
       "      <th>8</th>\n",
       "      <td>Jacksonville</td>\n",
       "      <td>44713.18</td>\n",
       "    </tr>\n",
       "    <tr>\n",
       "      <th>9</th>\n",
       "      <td>Detroit</td>\n",
       "      <td>42446.94</td>\n",
       "    </tr>\n",
       "  </tbody>\n",
       "</table>\n",
       "</div>"
      ],
      "text/plain": [
       "            City      Sales\n",
       "0  New York City  252462.55\n",
       "1    Los Angeles  173420.18\n",
       "2        Seattle  116106.32\n",
       "3  San Francisco  109041.12\n",
       "4   Philadelphia  108841.75\n",
       "5        Houston   63956.14\n",
       "6        Chicago   47820.13\n",
       "7      San Diego   47521.03\n",
       "8   Jacksonville   44713.18\n",
       "9        Detroit   42446.94"
      ]
     },
     "execution_count": 25,
     "metadata": {},
     "output_type": "execute_result"
    }
   ],
   "source": [
    "# draw top 10 cities\n",
    "top_city = df.groupby(['City']).sum().sort_values('Sales', ascending=False).head(10)\n",
    "top_city = top_city[['Sales']].round(2)\n",
    "top_city.reset_index(inplace=True)\n",
    "top_city"
   ]
  },
  {
   "cell_type": "code",
   "execution_count": 26,
   "id": "503bebdf",
   "metadata": {
    "execution": {
     "iopub.execute_input": "2024-08-30T14:32:45.795859Z",
     "iopub.status.busy": "2024-08-30T14:32:45.794641Z",
     "iopub.status.idle": "2024-08-30T14:32:46.064759Z",
     "shell.execute_reply": "2024-08-30T14:32:46.063362Z"
    },
    "papermill": {
     "duration": 0.297417,
     "end_time": "2024-08-30T14:32:46.067451",
     "exception": false,
     "start_time": "2024-08-30T14:32:45.770034",
     "status": "completed"
    },
    "tags": []
   },
   "outputs": [
    {
     "data": {
      "image/png": "[encoded data removed]",
      "text/plain": [
       "<Figure size 1152x432 with 1 Axes>"
      ]
     },
     "metadata": {
      "needs_background": "light"
     },
     "output_type": "display_data"
    }
   ],
   "source": [
    "# visualize top 10 cities \n",
    "plt.figure(figsize=(16,6))\n",
    "plt.bar(top_city['City'],top_city['Sales'] ,color=\"#95dee3\" , edgecolor='blue')\n",
    "plt.xticks(rotation='vertical')\n",
    "plt.title('States With High Revenu ',fontsize=15)\n",
    "plt.xlabel('State',fontsize=15)\n",
    "plt.ylabel('Revenu',fontsize=15)\n",
    "\n",
    "for k , v in top_city['Sales'].items(): \n",
    "    if v > 100000 : \n",
    "        plt.text(k,v-100000,\"$\"+str(v),rotation=90,horizontalalignment='center')\n",
    "    else:\n",
    "        plt.text(k,v-10000,\"$\"+str(v),rotation=90,horizontalalignment='center')"
   ]
  },
  {
   "cell_type": "code",
   "execution_count": 27,
   "id": "eb4e6c74",
   "metadata": {
    "execution": {
     "iopub.execute_input": "2024-08-30T14:32:46.117815Z",
     "iopub.status.busy": "2024-08-30T14:32:46.116906Z",
     "iopub.status.idle": "2024-08-30T14:32:46.140354Z",
     "shell.execute_reply": "2024-08-30T14:32:46.139054Z"
    },
    "papermill": {
     "duration": 0.05163,
     "end_time": "2024-08-30T14:32:46.143026",
     "exception": false,
     "start_time": "2024-08-30T14:32:46.091396",
     "status": "completed"
    },
    "tags": []
   },
   "outputs": [
    {
     "data": {
      "text/html": [
       "<div>\n",
       "<style scoped>\n",
       "    .dataframe tbody tr th:only-of-type {\n",
       "        vertical-align: middle;\n",
       "    }\n",
       "\n",
       "    .dataframe tbody tr th {\n",
       "        vertical-align: top;\n",
       "    }\n",
       "\n",
       "    .dataframe thead th {\n",
       "        text-align: right;\n",
       "    }\n",
       "</style>\n",
       "<table border=\"1\" class=\"dataframe\">\n",
       "  <thead>\n",
       "    <tr style=\"text-align: right;\">\n",
       "      <th></th>\n",
       "      <th>Customer Name</th>\n",
       "      <th>Sales</th>\n",
       "    </tr>\n",
       "  </thead>\n",
       "  <tbody>\n",
       "    <tr>\n",
       "      <th>0</th>\n",
       "      <td>Sean Miller</td>\n",
       "      <td>25043.05</td>\n",
       "    </tr>\n",
       "    <tr>\n",
       "      <th>1</th>\n",
       "      <td>Tamara Chand</td>\n",
       "      <td>19052.22</td>\n",
       "    </tr>\n",
       "    <tr>\n",
       "      <th>2</th>\n",
       "      <td>Raymond Buch</td>\n",
       "      <td>15117.34</td>\n",
       "    </tr>\n",
       "    <tr>\n",
       "      <th>3</th>\n",
       "      <td>Tom Ashbrook</td>\n",
       "      <td>14595.62</td>\n",
       "    </tr>\n",
       "    <tr>\n",
       "      <th>4</th>\n",
       "      <td>Adrian Barton</td>\n",
       "      <td>14473.57</td>\n",
       "    </tr>\n",
       "    <tr>\n",
       "      <th>5</th>\n",
       "      <td>Ken Lonsdale</td>\n",
       "      <td>14175.23</td>\n",
       "    </tr>\n",
       "    <tr>\n",
       "      <th>6</th>\n",
       "      <td>Sanjit Chand</td>\n",
       "      <td>14142.33</td>\n",
       "    </tr>\n",
       "    <tr>\n",
       "      <th>7</th>\n",
       "      <td>Hunter Lopez</td>\n",
       "      <td>12873.30</td>\n",
       "    </tr>\n",
       "    <tr>\n",
       "      <th>8</th>\n",
       "      <td>Sanjit Engle</td>\n",
       "      <td>12209.44</td>\n",
       "    </tr>\n",
       "    <tr>\n",
       "      <th>9</th>\n",
       "      <td>Christopher Conant</td>\n",
       "      <td>12129.07</td>\n",
       "    </tr>\n",
       "  </tbody>\n",
       "</table>\n",
       "</div>"
      ],
      "text/plain": [
       "        Customer Name     Sales\n",
       "0         Sean Miller  25043.05\n",
       "1        Tamara Chand  19052.22\n",
       "2        Raymond Buch  15117.34\n",
       "3        Tom Ashbrook  14595.62\n",
       "4       Adrian Barton  14473.57\n",
       "5        Ken Lonsdale  14175.23\n",
       "6        Sanjit Chand  14142.33\n",
       "7        Hunter Lopez  12873.30\n",
       "8        Sanjit Engle  12209.44\n",
       "9  Christopher Conant  12129.07"
      ]
     },
     "execution_count": 27,
     "metadata": {},
     "output_type": "execute_result"
    }
   ],
   "source": [
    "# top 10 customers \n",
    "top_customers = df.groupby(['Customer Name']).sum().sort_values('Sales', ascending=False).head(10)\n",
    "top_customers = top_customers[['Sales']].round(2)\n",
    "top_customers.reset_index(inplace=True)\n",
    "top_customers"
   ]
  },
  {
   "cell_type": "code",
   "execution_count": 28,
   "id": "f61ee209",
   "metadata": {
    "execution": {
     "iopub.execute_input": "2024-08-30T14:32:46.193601Z",
     "iopub.status.busy": "2024-08-30T14:32:46.193154Z",
     "iopub.status.idle": "2024-08-30T14:32:46.424062Z",
     "shell.execute_reply": "2024-08-30T14:32:46.422524Z"
    },
    "papermill": {
     "duration": 0.259392,
     "end_time": "2024-08-30T14:32:46.426852",
     "exception": false,
     "start_time": "2024-08-30T14:32:46.167460",
     "status": "completed"
    },
    "tags": []
   },
   "outputs": [
    {
     "data": {
      "image/png": "[encoded data removed]",
      "text/plain": [
       "<Figure size 1152x432 with 1 Axes>"
      ]
     },
     "metadata": {
      "needs_background": "light"
     },
     "output_type": "display_data"
    }
   ],
   "source": [
    "# visualize top 10 customers \n",
    "plt.figure(figsize=(16,6))\n",
    "plt.bar(top_customers['Customer Name'],top_customers['Sales'] ,color=\"#95dee3\" , edgecolor='blue')\n",
    "plt.xticks(rotation='vertical')\n",
    "plt.title('States With High Revenu ',fontsize=15)\n",
    "plt.xlabel('State',fontsize=15)\n",
    "plt.ylabel('Revenu',fontsize=15)\n",
    "\n",
    "for k , v in top_customers['Sales'].items(): \n",
    "    if v > 100000 : \n",
    "        plt.text(k,v-100000,\"$\"+str(v),rotation=90,horizontalalignment='center')\n",
    "    else:\n",
    "        plt.text(k,v-10000,\"$\"+str(v),rotation=90,horizontalalignment='center')"
   ]
  },
  {
   "cell_type": "code",
   "execution_count": 29,
   "id": "1f86f62a",
   "metadata": {
    "execution": {
     "iopub.execute_input": "2024-08-30T14:32:46.479569Z",
     "iopub.status.busy": "2024-08-30T14:32:46.478609Z",
     "iopub.status.idle": "2024-08-30T14:32:46.488339Z",
     "shell.execute_reply": "2024-08-30T14:32:46.487128Z"
    },
    "papermill": {
     "duration": 0.03846,
     "end_time": "2024-08-30T14:32:46.490760",
     "exception": false,
     "start_time": "2024-08-30T14:32:46.452300",
     "status": "completed"
    },
    "tags": []
   },
   "outputs": [
    {
     "data": {
      "text/plain": [
       "Office Supplies    5909\n",
       "Furniture          2078\n",
       "Technology         1813\n",
       "Name: Category, dtype: int64"
      ]
     },
     "execution_count": 29,
     "metadata": {},
     "output_type": "execute_result"
    }
   ],
   "source": [
    "# show categories \n",
    "df['Category'].value_counts()"
   ]
  },
  {
   "cell_type": "code",
   "execution_count": 30,
   "id": "49a9a06a",
   "metadata": {
    "execution": {
     "iopub.execute_input": "2024-08-30T14:32:46.542271Z",
     "iopub.status.busy": "2024-08-30T14:32:46.541827Z",
     "iopub.status.idle": "2024-08-30T14:32:46.563034Z",
     "shell.execute_reply": "2024-08-30T14:32:46.561670Z"
    },
    "papermill": {
     "duration": 0.049968,
     "end_time": "2024-08-30T14:32:46.565716",
     "exception": false,
     "start_time": "2024-08-30T14:32:46.515748",
     "status": "completed"
    },
    "tags": []
   },
   "outputs": [
    {
     "data": {
      "text/html": [
       "<div>\n",
       "<style scoped>\n",
       "    .dataframe tbody tr th:only-of-type {\n",
       "        vertical-align: middle;\n",
       "    }\n",
       "\n",
       "    .dataframe tbody tr th {\n",
       "        vertical-align: top;\n",
       "    }\n",
       "\n",
       "    .dataframe thead th {\n",
       "        text-align: right;\n",
       "    }\n",
       "</style>\n",
       "<table border=\"1\" class=\"dataframe\">\n",
       "  <thead>\n",
       "    <tr style=\"text-align: right;\">\n",
       "      <th></th>\n",
       "      <th>Category</th>\n",
       "      <th>Row ID</th>\n",
       "      <th>Postal Code</th>\n",
       "      <th>Sales</th>\n",
       "    </tr>\n",
       "  </thead>\n",
       "  <tbody>\n",
       "    <tr>\n",
       "      <th>0</th>\n",
       "      <td>Technology</td>\n",
       "      <td>8904250</td>\n",
       "      <td>100694078.0</td>\n",
       "      <td>827455.8730</td>\n",
       "    </tr>\n",
       "    <tr>\n",
       "      <th>1</th>\n",
       "      <td>Furniture</td>\n",
       "      <td>10267988</td>\n",
       "      <td>115548445.0</td>\n",
       "      <td>728658.5757</td>\n",
       "    </tr>\n",
       "    <tr>\n",
       "      <th>2</th>\n",
       "      <td>Office Supplies</td>\n",
       "      <td>28852662</td>\n",
       "      <td>324887441.0</td>\n",
       "      <td>705422.3340</td>\n",
       "    </tr>\n",
       "  </tbody>\n",
       "</table>\n",
       "</div>"
      ],
      "text/plain": [
       "          Category    Row ID  Postal Code        Sales\n",
       "0       Technology   8904250  100694078.0  827455.8730\n",
       "1        Furniture  10267988  115548445.0  728658.5757\n",
       "2  Office Supplies  28852662  324887441.0  705422.3340"
      ]
     },
     "execution_count": 30,
     "metadata": {},
     "output_type": "execute_result"
    }
   ],
   "source": [
    "# how much sales in each category \n",
    "category_sales = df.groupby(['Category']).sum().sort_values('Sales',ascending=False)\n",
    "category_sales.reset_index(inplace=True)\n",
    "category_sales"
   ]
  },
  {
   "cell_type": "code",
   "execution_count": 31,
   "id": "c112625e",
   "metadata": {
    "execution": {
     "iopub.execute_input": "2024-08-30T14:32:46.619781Z",
     "iopub.status.busy": "2024-08-30T14:32:46.618973Z",
     "iopub.status.idle": "2024-08-30T14:32:46.764494Z",
     "shell.execute_reply": "2024-08-30T14:32:46.763009Z"
    },
    "papermill": {
     "duration": 0.176789,
     "end_time": "2024-08-30T14:32:46.767935",
     "exception": false,
     "start_time": "2024-08-30T14:32:46.591146",
     "status": "completed"
    },
    "tags": []
   },
   "outputs": [
    {
     "data": {
      "text/plain": [
       "([<matplotlib.patches.Wedge at 0x79d067f65a50>,\n",
       "  <matplotlib.patches.Wedge at 0x79d067f71390>,\n",
       "  <matplotlib.patches.Wedge at 0x79d067f71b90>],\n",
       " [Text(0.4498857223734124, 1.003794220348251, 'Technology'),\n",
       "  Text(-1.0842321085760298, -0.18558215090028554, 'Furniture'),\n",
       "  Text(0.6127880326006169, -0.9135046946247543, 'Office Supplies')],\n",
       " [Text(0.24539221220367946, 0.547524120189955, '36.59%  ($827456)'),\n",
       "  Text(-0.5913993319505617, -0.1012266277637921, '32.22%  ($728659)'),\n",
       "  Text(0.3342480177821546, -0.4982752879771386, '31.19%  ($705422)')])"
      ]
     },
     "execution_count": 31,
     "metadata": {},
     "output_type": "execute_result"
    },
    {
     "data": {
      "image/png": "[encoded data removed]",
      "text/plain": [
       "<Figure size 1080x720 with 1 Axes>"
      ]
     },
     "metadata": {},
     "output_type": "display_data"
    }
   ],
   "source": [
    "# Visualize Sales in each category \n",
    "plt.figure(figsize=(15,10))\n",
    "def make_autopct(values):\n",
    "    def my_autopct(pct):\n",
    "        total = sum(values)\n",
    "        val = int(round(pct*total/100.0))\n",
    "        return '{p:.2f}%  (${v:d})'.format(p=pct,v=val)\n",
    "    return my_autopct\n",
    "\n",
    "\n",
    "plt.pie(category_sales['Sales'],labels=category_sales['Category'],autopct=make_autopct(category_sales['Sales']))"
   ]
  },
  {
   "cell_type": "code",
   "execution_count": 32,
   "id": "f3dc19bd",
   "metadata": {
    "execution": {
     "iopub.execute_input": "2024-08-30T14:32:46.839724Z",
     "iopub.status.busy": "2024-08-30T14:32:46.838504Z",
     "iopub.status.idle": "2024-08-30T14:32:46.862612Z",
     "shell.execute_reply": "2024-08-30T14:32:46.861459Z"
    },
    "papermill": {
     "duration": 0.054376,
     "end_time": "2024-08-30T14:32:46.865337",
     "exception": false,
     "start_time": "2024-08-30T14:32:46.810961",
     "status": "completed"
    },
    "tags": []
   },
   "outputs": [
    {
     "data": {
      "text/html": [
       "<div>\n",
       "<style scoped>\n",
       "    .dataframe tbody tr th:only-of-type {\n",
       "        vertical-align: middle;\n",
       "    }\n",
       "\n",
       "    .dataframe tbody tr th {\n",
       "        vertical-align: top;\n",
       "    }\n",
       "\n",
       "    .dataframe thead th {\n",
       "        text-align: right;\n",
       "    }\n",
       "</style>\n",
       "<table border=\"1\" class=\"dataframe\">\n",
       "  <thead>\n",
       "    <tr style=\"text-align: right;\">\n",
       "      <th></th>\n",
       "      <th>Product Name</th>\n",
       "      <th>Row ID</th>\n",
       "      <th>Postal Code</th>\n",
       "      <th>Sales</th>\n",
       "    </tr>\n",
       "  </thead>\n",
       "  <tbody>\n",
       "    <tr>\n",
       "      <th>0</th>\n",
       "      <td>Canon imageCLASS 2200 Advanced Copier</td>\n",
       "      <td>28222</td>\n",
       "      <td>194875.0</td>\n",
       "      <td>61599.824</td>\n",
       "    </tr>\n",
       "    <tr>\n",
       "      <th>1</th>\n",
       "      <td>Fellowes PB500 Electric Punch Plastic Comb Bin...</td>\n",
       "      <td>61859</td>\n",
       "      <td>562064.0</td>\n",
       "      <td>27453.384</td>\n",
       "    </tr>\n",
       "    <tr>\n",
       "      <th>2</th>\n",
       "      <td>Cisco TelePresence System EX90 Videoconferenci...</td>\n",
       "      <td>2698</td>\n",
       "      <td>32216.0</td>\n",
       "      <td>22638.480</td>\n",
       "    </tr>\n",
       "    <tr>\n",
       "      <th>3</th>\n",
       "      <td>HON 5400 Series Task Chairs for Big and Tall</td>\n",
       "      <td>44560</td>\n",
       "      <td>448062.0</td>\n",
       "      <td>21870.576</td>\n",
       "    </tr>\n",
       "    <tr>\n",
       "      <th>4</th>\n",
       "      <td>GBC DocuBind TL300 Electric Binding System</td>\n",
       "      <td>64915</td>\n",
       "      <td>381549.0</td>\n",
       "      <td>19823.479</td>\n",
       "    </tr>\n",
       "  </tbody>\n",
       "</table>\n",
       "</div>"
      ],
      "text/plain": [
       "                                        Product Name  Row ID  Postal Code  \\\n",
       "0              Canon imageCLASS 2200 Advanced Copier   28222     194875.0   \n",
       "1  Fellowes PB500 Electric Punch Plastic Comb Bin...   61859     562064.0   \n",
       "2  Cisco TelePresence System EX90 Videoconferenci...    2698      32216.0   \n",
       "3       HON 5400 Series Task Chairs for Big and Tall   44560     448062.0   \n",
       "4         GBC DocuBind TL300 Electric Binding System   64915     381549.0   \n",
       "\n",
       "       Sales  \n",
       "0  61599.824  \n",
       "1  27453.384  \n",
       "2  22638.480  \n",
       "3  21870.576  \n",
       "4  19823.479  "
      ]
     },
     "execution_count": 32,
     "metadata": {},
     "output_type": "execute_result"
    }
   ],
   "source": [
    "# top products \n",
    "top_products = df.groupby(['Product Name']).sum().sort_values('Sales',ascending=False).head(5)\n",
    "top_products.reset_index(inplace=True)\n",
    "top_products"
   ]
  },
  {
   "cell_type": "code",
   "execution_count": 33,
   "id": "6a3fcc28",
   "metadata": {
    "execution": {
     "iopub.execute_input": "2024-08-30T14:32:46.920632Z",
     "iopub.status.busy": "2024-08-30T14:32:46.920240Z",
     "iopub.status.idle": "2024-08-30T14:32:47.141937Z",
     "shell.execute_reply": "2024-08-30T14:32:47.140824Z"
    },
    "papermill": {
     "duration": 0.252527,
     "end_time": "2024-08-30T14:32:47.145060",
     "exception": false,
     "start_time": "2024-08-30T14:32:46.892533",
     "status": "completed"
    },
    "tags": []
   },
   "outputs": [
    {
     "data": {
      "text/plain": [
       "([<matplotlib.patches.Wedge at 0x79d067e4c650>,\n",
       "  <matplotlib.patches.Wedge at 0x79d067e58050>,\n",
       "  <matplotlib.patches.Wedge at 0x79d067e58810>,\n",
       "  <matplotlib.patches.Wedge at 0x79d067e58550>,\n",
       "  <matplotlib.patches.Wedge at 0x79d067e66690>],\n",
       " [Text(0.3346535699833834, 1.0478582862665051, 'Canon imageCLASS 2200 Advanced Copier'),\n",
       "  Text(-1.0982774609148707, 0.061535508825269966, 'Fellowes PB500 Electric Punch Plastic Comb Binding Machine with Manual Bind'),\n",
       "  Text(-0.6218355761767037, -0.907370109823432, 'Cisco TelePresence System EX90 Videoconferencing Unit'),\n",
       "  Text(0.3364189321736005, -1.0472928444686207, 'HON 5400 Series Task Chairs for Big and Tall'),\n",
       "  Text(1.0105710320151062, -0.43444929422422046, 'GBC DocuBind TL300 Electric Binding System')],\n",
       " [Text(0.18253831090002728, 0.5715590652362754, '40.16%  ($61600)'),\n",
       "  Text(-0.5990604332262931, 0.0335648229956018, '17.90%  ($27453)'),\n",
       "  Text(-0.33918304155092927, -0.494929150812781, '14.76%  ($22638)'),\n",
       "  Text(0.1835012357310548, -0.5712506424374294, '14.26%  ($21871)'),\n",
       "  Text(0.5512205629173307, -0.23697234230412023, '12.92%  ($19823)')])"
      ]
     },
     "execution_count": 33,
     "metadata": {},
     "output_type": "execute_result"
    },
    {
     "data": {
      "image/png": "[encoded data removed]",
      "text/plain": [
       "<Figure size 1080x720 with 1 Axes>"
      ]
     },
     "metadata": {},
     "output_type": "display_data"
    }
   ],
   "source": [
    "# sales in each product \n",
    "plt.figure(figsize=(15,10))\n",
    "plt.pie(top_products['Sales'],labels=top_products['Product Name'],autopct=make_autopct(top_products['Sales']))"
   ]
  },
  {
   "cell_type": "code",
   "execution_count": 34,
   "id": "aef16851",
   "metadata": {
    "execution": {
     "iopub.execute_input": "2024-08-30T14:32:47.202818Z",
     "iopub.status.busy": "2024-08-30T14:32:47.201649Z",
     "iopub.status.idle": "2024-08-30T14:32:47.214661Z",
     "shell.execute_reply": "2024-08-30T14:32:47.213553Z"
    },
    "papermill": {
     "duration": 0.044689,
     "end_time": "2024-08-30T14:32:47.217304",
     "exception": false,
     "start_time": "2024-08-30T14:32:47.172615",
     "status": "completed"
    },
    "tags": []
   },
   "outputs": [],
   "source": [
    "# create new columns from the order date , split the date into day , month ans year\n",
    "df['day'] = df['Order Date'].dt.day\n",
    "df['month'] = df['Order Date'].dt.month\n",
    "df['year'] = df['Order Date'].dt.year"
   ]
  },
  {
   "cell_type": "code",
   "execution_count": 35,
   "id": "318e59a1",
   "metadata": {
    "execution": {
     "iopub.execute_input": "2024-08-30T14:32:47.273733Z",
     "iopub.status.busy": "2024-08-30T14:32:47.273292Z",
     "iopub.status.idle": "2024-08-30T14:32:47.303187Z",
     "shell.execute_reply": "2024-08-30T14:32:47.302038Z"
    },
    "papermill": {
     "duration": 0.061211,
     "end_time": "2024-08-30T14:32:47.305522",
     "exception": false,
     "start_time": "2024-08-30T14:32:47.244311",
     "status": "completed"
    },
    "tags": []
   },
   "outputs": [
    {
     "data": {
      "text/html": [
       "<div>\n",
       "<style scoped>\n",
       "    .dataframe tbody tr th:only-of-type {\n",
       "        vertical-align: middle;\n",
       "    }\n",
       "\n",
       "    .dataframe tbody tr th {\n",
       "        vertical-align: top;\n",
       "    }\n",
       "\n",
       "    .dataframe thead th {\n",
       "        text-align: right;\n",
       "    }\n",
       "</style>\n",
       "<table border=\"1\" class=\"dataframe\">\n",
       "  <thead>\n",
       "    <tr style=\"text-align: right;\">\n",
       "      <th></th>\n",
       "      <th>Row ID</th>\n",
       "      <th>Order ID</th>\n",
       "      <th>Order Date</th>\n",
       "      <th>Ship Date</th>\n",
       "      <th>Ship Mode</th>\n",
       "      <th>Customer ID</th>\n",
       "      <th>Customer Name</th>\n",
       "      <th>Segment</th>\n",
       "      <th>Country</th>\n",
       "      <th>City</th>\n",
       "      <th>...</th>\n",
       "      <th>Postal Code</th>\n",
       "      <th>Region</th>\n",
       "      <th>Product ID</th>\n",
       "      <th>Category</th>\n",
       "      <th>Sub-Category</th>\n",
       "      <th>Product Name</th>\n",
       "      <th>Sales</th>\n",
       "      <th>day</th>\n",
       "      <th>month</th>\n",
       "      <th>year</th>\n",
       "    </tr>\n",
       "  </thead>\n",
       "  <tbody>\n",
       "    <tr>\n",
       "      <th>378</th>\n",
       "      <td>379</td>\n",
       "      <td>CA-2016-130792</td>\n",
       "      <td>2016-04-28</td>\n",
       "      <td>2016-05-05</td>\n",
       "      <td>Standard Class</td>\n",
       "      <td>RA-19915</td>\n",
       "      <td>Russell Applegate</td>\n",
       "      <td>Consumer</td>\n",
       "      <td>United States</td>\n",
       "      <td>Houston</td>\n",
       "      <td>...</td>\n",
       "      <td>77095.0</td>\n",
       "      <td>Central</td>\n",
       "      <td>OFF-AP-10000696</td>\n",
       "      <td>Office Supplies</td>\n",
       "      <td>Appliances</td>\n",
       "      <td>Holmes Odor Grabber</td>\n",
       "      <td>8.652</td>\n",
       "      <td>28</td>\n",
       "      <td>4</td>\n",
       "      <td>2016</td>\n",
       "    </tr>\n",
       "    <tr>\n",
       "      <th>8434</th>\n",
       "      <td>8435</td>\n",
       "      <td>US-2015-127635</td>\n",
       "      <td>2015-09-14</td>\n",
       "      <td>2015-09-18</td>\n",
       "      <td>Second Class</td>\n",
       "      <td>SC-20260</td>\n",
       "      <td>Scott Cohen</td>\n",
       "      <td>Corporate</td>\n",
       "      <td>United States</td>\n",
       "      <td>Corpus Christi</td>\n",
       "      <td>...</td>\n",
       "      <td>78415.0</td>\n",
       "      <td>Central</td>\n",
       "      <td>FUR-FU-10000550</td>\n",
       "      <td>Furniture</td>\n",
       "      <td>Furnishings</td>\n",
       "      <td>Stacking Trays by OIC</td>\n",
       "      <td>9.960</td>\n",
       "      <td>14</td>\n",
       "      <td>9</td>\n",
       "      <td>2015</td>\n",
       "    </tr>\n",
       "    <tr>\n",
       "      <th>6978</th>\n",
       "      <td>6979</td>\n",
       "      <td>CA-2018-155159</td>\n",
       "      <td>2018-11-25</td>\n",
       "      <td>2018-11-29</td>\n",
       "      <td>Second Class</td>\n",
       "      <td>DL-13315</td>\n",
       "      <td>Delfina Latchford</td>\n",
       "      <td>Consumer</td>\n",
       "      <td>United States</td>\n",
       "      <td>Atlanta</td>\n",
       "      <td>...</td>\n",
       "      <td>30318.0</td>\n",
       "      <td>South</td>\n",
       "      <td>OFF-PA-10003724</td>\n",
       "      <td>Office Supplies</td>\n",
       "      <td>Paper</td>\n",
       "      <td>Wirebound Message Book, 4 per Page</td>\n",
       "      <td>48.870</td>\n",
       "      <td>25</td>\n",
       "      <td>11</td>\n",
       "      <td>2018</td>\n",
       "    </tr>\n",
       "    <tr>\n",
       "      <th>6898</th>\n",
       "      <td>6899</td>\n",
       "      <td>US-2016-165512</td>\n",
       "      <td>2016-05-24</td>\n",
       "      <td>2016-05-26</td>\n",
       "      <td>Second Class</td>\n",
       "      <td>VS-21820</td>\n",
       "      <td>Vivek Sundaresam</td>\n",
       "      <td>Consumer</td>\n",
       "      <td>United States</td>\n",
       "      <td>Naperville</td>\n",
       "      <td>...</td>\n",
       "      <td>60540.0</td>\n",
       "      <td>Central</td>\n",
       "      <td>FUR-CH-10002880</td>\n",
       "      <td>Furniture</td>\n",
       "      <td>Chairs</td>\n",
       "      <td>Global High-Back Leather Tilter, Burgundy</td>\n",
       "      <td>602.651</td>\n",
       "      <td>24</td>\n",
       "      <td>5</td>\n",
       "      <td>2016</td>\n",
       "    </tr>\n",
       "    <tr>\n",
       "      <th>4171</th>\n",
       "      <td>4172</td>\n",
       "      <td>CA-2018-100601</td>\n",
       "      <td>2018-11-16</td>\n",
       "      <td>2018-11-20</td>\n",
       "      <td>Standard Class</td>\n",
       "      <td>JK-15370</td>\n",
       "      <td>Jay Kimmel</td>\n",
       "      <td>Consumer</td>\n",
       "      <td>United States</td>\n",
       "      <td>Fresno</td>\n",
       "      <td>...</td>\n",
       "      <td>93727.0</td>\n",
       "      <td>West</td>\n",
       "      <td>OFF-ST-10002486</td>\n",
       "      <td>Office Supplies</td>\n",
       "      <td>Storage</td>\n",
       "      <td>Eldon Shelf Savers Cubes and Bins</td>\n",
       "      <td>48.860</td>\n",
       "      <td>16</td>\n",
       "      <td>11</td>\n",
       "      <td>2018</td>\n",
       "    </tr>\n",
       "  </tbody>\n",
       "</table>\n",
       "<p>5 rows × 21 columns</p>\n",
       "</div>"
      ],
      "text/plain": [
       "      Row ID        Order ID Order Date  Ship Date       Ship Mode  \\\n",
       "378      379  CA-2016-130792 2016-04-28 2016-05-05  Standard Class   \n",
       "8434    8435  US-2015-127635 2015-09-14 2015-09-18    Second Class   \n",
       "6978    6979  CA-2018-155159 2018-11-25 2018-11-29    Second Class   \n",
       "6898    6899  US-2016-165512 2016-05-24 2016-05-26    Second Class   \n",
       "4171    4172  CA-2018-100601 2018-11-16 2018-11-20  Standard Class   \n",
       "\n",
       "     Customer ID      Customer Name    Segment        Country            City  \\\n",
       "378     RA-19915  Russell Applegate   Consumer  United States         Houston   \n",
       "8434    SC-20260        Scott Cohen  Corporate  United States  Corpus Christi   \n",
       "6978    DL-13315  Delfina Latchford   Consumer  United States         Atlanta   \n",
       "6898    VS-21820   Vivek Sundaresam   Consumer  United States      Naperville   \n",
       "4171    JK-15370         Jay Kimmel   Consumer  United States          Fresno   \n",
       "\n",
       "      ... Postal Code   Region       Product ID         Category Sub-Category  \\\n",
       "378   ...     77095.0  Central  OFF-AP-10000696  Office Supplies   Appliances   \n",
       "8434  ...     78415.0  Central  FUR-FU-10000550        Furniture  Furnishings   \n",
       "6978  ...     30318.0    South  OFF-PA-10003724  Office Supplies        Paper   \n",
       "6898  ...     60540.0  Central  FUR-CH-10002880        Furniture       Chairs   \n",
       "4171  ...     93727.0     West  OFF-ST-10002486  Office Supplies      Storage   \n",
       "\n",
       "                                   Product Name    Sales  day  month  year  \n",
       "378                         Holmes Odor Grabber    8.652   28      4  2016  \n",
       "8434                      Stacking Trays by OIC    9.960   14      9  2015  \n",
       "6978         Wirebound Message Book, 4 per Page   48.870   25     11  2018  \n",
       "6898  Global High-Back Leather Tilter, Burgundy  602.651   24      5  2016  \n",
       "4171          Eldon Shelf Savers Cubes and Bins   48.860   16     11  2018  \n",
       "\n",
       "[5 rows x 21 columns]"
      ]
     },
     "execution_count": 35,
     "metadata": {},
     "output_type": "execute_result"
    }
   ],
   "source": [
    "# now we have the new 3 columns \n",
    "df.sample(5)"
   ]
  },
  {
   "cell_type": "code",
   "execution_count": 36,
   "id": "63ece2c8",
   "metadata": {
    "execution": {
     "iopub.execute_input": "2024-08-30T14:32:47.362110Z",
     "iopub.status.busy": "2024-08-30T14:32:47.361649Z",
     "iopub.status.idle": "2024-08-30T14:32:47.456195Z",
     "shell.execute_reply": "2024-08-30T14:32:47.454922Z"
    },
    "papermill": {
     "duration": 0.126002,
     "end_time": "2024-08-30T14:32:47.458927",
     "exception": false,
     "start_time": "2024-08-30T14:32:47.332925",
     "status": "completed"
    },
    "tags": []
   },
   "outputs": [
    {
     "data": {
      "text/plain": [
       "<AxesSubplot:ylabel='year'>"
      ]
     },
     "execution_count": 36,
     "metadata": {},
     "output_type": "execute_result"
    },
    {
     "data": {
      "image/png": "[encoded data removed]",
      "text/plain": [
       "<Figure size 432x288 with 1 Axes>"
      ]
     },
     "metadata": {},
     "output_type": "display_data"
    }
   ],
   "source": [
    "# show the orders over years\n",
    "df['year'].value_counts().plot.pie()"
   ]
  },
  {
   "cell_type": "code",
   "execution_count": 37,
   "id": "cf6b0e64",
   "metadata": {
    "execution": {
     "iopub.execute_input": "2024-08-30T14:32:47.517951Z",
     "iopub.status.busy": "2024-08-30T14:32:47.517489Z",
     "iopub.status.idle": "2024-08-30T14:32:47.539011Z",
     "shell.execute_reply": "2024-08-30T14:32:47.537750Z"
    },
    "papermill": {
     "duration": 0.054301,
     "end_time": "2024-08-30T14:32:47.541628",
     "exception": false,
     "start_time": "2024-08-30T14:32:47.487327",
     "status": "completed"
    },
    "tags": []
   },
   "outputs": [
    {
     "data": {
      "text/html": [
       "<div>\n",
       "<style scoped>\n",
       "    .dataframe tbody tr th:only-of-type {\n",
       "        vertical-align: middle;\n",
       "    }\n",
       "\n",
       "    .dataframe tbody tr th {\n",
       "        vertical-align: top;\n",
       "    }\n",
       "\n",
       "    .dataframe thead th {\n",
       "        text-align: right;\n",
       "    }\n",
       "</style>\n",
       "<table border=\"1\" class=\"dataframe\">\n",
       "  <thead>\n",
       "    <tr style=\"text-align: right;\">\n",
       "      <th></th>\n",
       "      <th>year</th>\n",
       "      <th>Row ID</th>\n",
       "      <th>Postal Code</th>\n",
       "      <th>Sales</th>\n",
       "      <th>day</th>\n",
       "      <th>month</th>\n",
       "    </tr>\n",
       "  </thead>\n",
       "  <tbody>\n",
       "    <tr>\n",
       "      <th>0</th>\n",
       "      <td>2018</td>\n",
       "      <td>16313767</td>\n",
       "      <td>183240705.0</td>\n",
       "      <td>722052.0192</td>\n",
       "      <td>50088</td>\n",
       "      <td>25286</td>\n",
       "    </tr>\n",
       "    <tr>\n",
       "      <th>1</th>\n",
       "      <td>2017</td>\n",
       "      <td>12254092</td>\n",
       "      <td>138200041.0</td>\n",
       "      <td>600192.5500</td>\n",
       "      <td>38533</td>\n",
       "      <td>19606</td>\n",
       "    </tr>\n",
       "    <tr>\n",
       "      <th>2</th>\n",
       "      <td>2015</td>\n",
       "      <td>9508700</td>\n",
       "      <td>110842145.0</td>\n",
       "      <td>479856.2081</td>\n",
       "      <td>30706</td>\n",
       "      <td>15351</td>\n",
       "    </tr>\n",
       "    <tr>\n",
       "      <th>3</th>\n",
       "      <td>2016</td>\n",
       "      <td>9948341</td>\n",
       "      <td>108847073.0</td>\n",
       "      <td>459436.0054</td>\n",
       "      <td>32444</td>\n",
       "      <td>16378</td>\n",
       "    </tr>\n",
       "  </tbody>\n",
       "</table>\n",
       "</div>"
      ],
      "text/plain": [
       "   year    Row ID  Postal Code        Sales    day  month\n",
       "0  2018  16313767  183240705.0  722052.0192  50088  25286\n",
       "1  2017  12254092  138200041.0  600192.5500  38533  19606\n",
       "2  2015   9508700  110842145.0  479856.2081  30706  15351\n",
       "3  2016   9948341  108847073.0  459436.0054  32444  16378"
      ]
     },
     "execution_count": 37,
     "metadata": {},
     "output_type": "execute_result"
    }
   ],
   "source": [
    "# show the sales in each year \n",
    "year_sales = df.groupby(['year']).sum().sort_values('Sales',ascending=False)\n",
    "year_sales.reset_index(inplace=True)\n",
    "year_sales"
   ]
  },
  {
   "cell_type": "code",
   "execution_count": 38,
   "id": "24ebeacd",
   "metadata": {
    "execution": {
     "iopub.execute_input": "2024-08-30T14:32:47.599409Z",
     "iopub.status.busy": "2024-08-30T14:32:47.598844Z",
     "iopub.status.idle": "2024-08-30T14:32:47.762172Z",
     "shell.execute_reply": "2024-08-30T14:32:47.760935Z"
    },
    "papermill": {
     "duration": 0.195555,
     "end_time": "2024-08-30T14:32:47.765054",
     "exception": false,
     "start_time": "2024-08-30T14:32:47.569499",
     "status": "completed"
    },
    "tags": []
   },
   "outputs": [
    {
     "data": {
      "text/plain": [
       "<BarContainer object of 4 artists>"
      ]
     },
     "execution_count": 38,
     "metadata": {},
     "output_type": "execute_result"
    },
    {
     "data": {
      "image/png": "[encoded data removed]",
      "text/plain": [
       "<Figure size 432x288 with 1 Axes>"
      ]
     },
     "metadata": {
      "needs_background": "light"
     },
     "output_type": "display_data"
    }
   ],
   "source": [
    "# visualize sales in each year \n",
    "plt.bar(year_sales['year'],year_sales['Sales'] ,color=\"#95dee3\" , edgecolor='blue')"
   ]
  },
  {
   "cell_type": "code",
   "execution_count": 39,
   "id": "cf347b8f",
   "metadata": {
    "execution": {
     "iopub.execute_input": "2024-08-30T14:32:47.824439Z",
     "iopub.status.busy": "2024-08-30T14:32:47.823657Z",
     "iopub.status.idle": "2024-08-30T14:32:47.846623Z",
     "shell.execute_reply": "2024-08-30T14:32:47.845369Z"
    },
    "papermill": {
     "duration": 0.055568,
     "end_time": "2024-08-30T14:32:47.849155",
     "exception": false,
     "start_time": "2024-08-30T14:32:47.793587",
     "status": "completed"
    },
    "tags": []
   },
   "outputs": [
    {
     "data": {
      "text/html": [
       "<div>\n",
       "<style scoped>\n",
       "    .dataframe tbody tr th:only-of-type {\n",
       "        vertical-align: middle;\n",
       "    }\n",
       "\n",
       "    .dataframe tbody tr th {\n",
       "        vertical-align: top;\n",
       "    }\n",
       "\n",
       "    .dataframe thead th {\n",
       "        text-align: right;\n",
       "    }\n",
       "</style>\n",
       "<table border=\"1\" class=\"dataframe\">\n",
       "  <thead>\n",
       "    <tr style=\"text-align: right;\">\n",
       "      <th></th>\n",
       "      <th>month</th>\n",
       "      <th>Row ID</th>\n",
       "      <th>Postal Code</th>\n",
       "      <th>Sales</th>\n",
       "      <th>day</th>\n",
       "      <th>year</th>\n",
       "    </tr>\n",
       "  </thead>\n",
       "  <tbody>\n",
       "    <tr>\n",
       "      <th>0</th>\n",
       "      <td>9</td>\n",
       "      <td>1288844</td>\n",
       "      <td>14461190.0</td>\n",
       "      <td>81623.5268</td>\n",
       "      <td>4216</td>\n",
       "      <td>538005</td>\n",
       "    </tr>\n",
       "    <tr>\n",
       "      <th>1</th>\n",
       "      <td>11</td>\n",
       "      <td>1487159</td>\n",
       "      <td>17527383.0</td>\n",
       "      <td>77907.6607</td>\n",
       "      <td>4637</td>\n",
       "      <td>616590</td>\n",
       "    </tr>\n",
       "    <tr>\n",
       "      <th>2</th>\n",
       "      <td>12</td>\n",
       "      <td>1334401</td>\n",
       "      <td>16158704.0</td>\n",
       "      <td>68167.0585</td>\n",
       "      <td>4696</td>\n",
       "      <td>552110</td>\n",
       "    </tr>\n",
       "    <tr>\n",
       "      <th>3</th>\n",
       "      <td>3</td>\n",
       "      <td>841782</td>\n",
       "      <td>8230795.0</td>\n",
       "      <td>55205.7970</td>\n",
       "      <td>2522</td>\n",
       "      <td>310310</td>\n",
       "    </tr>\n",
       "    <tr>\n",
       "      <th>4</th>\n",
       "      <td>6</td>\n",
       "      <td>452362</td>\n",
       "      <td>6579219.0</td>\n",
       "      <td>34322.9356</td>\n",
       "      <td>1990</td>\n",
       "      <td>263965</td>\n",
       "    </tr>\n",
       "    <tr>\n",
       "      <th>5</th>\n",
       "      <td>7</td>\n",
       "      <td>736469</td>\n",
       "      <td>9031885.0</td>\n",
       "      <td>33781.5430</td>\n",
       "      <td>2308</td>\n",
       "      <td>286130</td>\n",
       "    </tr>\n",
       "    <tr>\n",
       "      <th>6</th>\n",
       "      <td>10</td>\n",
       "      <td>865655</td>\n",
       "      <td>9703910.0</td>\n",
       "      <td>31453.3930</td>\n",
       "      <td>2529</td>\n",
       "      <td>320385</td>\n",
       "    </tr>\n",
       "    <tr>\n",
       "      <th>7</th>\n",
       "      <td>4</td>\n",
       "      <td>641208</td>\n",
       "      <td>7318088.0</td>\n",
       "      <td>27906.8550</td>\n",
       "      <td>1822</td>\n",
       "      <td>261950</td>\n",
       "    </tr>\n",
       "    <tr>\n",
       "      <th>8</th>\n",
       "      <td>8</td>\n",
       "      <td>660411</td>\n",
       "      <td>8097400.0</td>\n",
       "      <td>27117.5365</td>\n",
       "      <td>2172</td>\n",
       "      <td>294190</td>\n",
       "    </tr>\n",
       "    <tr>\n",
       "      <th>9</th>\n",
       "      <td>5</td>\n",
       "      <td>601875</td>\n",
       "      <td>6422584.0</td>\n",
       "      <td>23644.3030</td>\n",
       "      <td>1988</td>\n",
       "      <td>243815</td>\n",
       "    </tr>\n",
       "    <tr>\n",
       "      <th>10</th>\n",
       "      <td>1</td>\n",
       "      <td>326299</td>\n",
       "      <td>4261212.0</td>\n",
       "      <td>14205.7070</td>\n",
       "      <td>1264</td>\n",
       "      <td>155155</td>\n",
       "    </tr>\n",
       "    <tr>\n",
       "      <th>11</th>\n",
       "      <td>2</td>\n",
       "      <td>272235</td>\n",
       "      <td>3049775.0</td>\n",
       "      <td>4519.8920</td>\n",
       "      <td>562</td>\n",
       "      <td>92690</td>\n",
       "    </tr>\n",
       "  </tbody>\n",
       "</table>\n",
       "</div>"
      ],
      "text/plain": [
       "    month   Row ID  Postal Code       Sales   day    year\n",
       "0       9  1288844   14461190.0  81623.5268  4216  538005\n",
       "1      11  1487159   17527383.0  77907.6607  4637  616590\n",
       "2      12  1334401   16158704.0  68167.0585  4696  552110\n",
       "3       3   841782    8230795.0  55205.7970  2522  310310\n",
       "4       6   452362    6579219.0  34322.9356  1990  263965\n",
       "5       7   736469    9031885.0  33781.5430  2308  286130\n",
       "6      10   865655    9703910.0  31453.3930  2529  320385\n",
       "7       4   641208    7318088.0  27906.8550  1822  261950\n",
       "8       8   660411    8097400.0  27117.5365  2172  294190\n",
       "9       5   601875    6422584.0  23644.3030  1988  243815\n",
       "10      1   326299    4261212.0  14205.7070  1264  155155\n",
       "11      2   272235    3049775.0   4519.8920   562   92690"
      ]
     },
     "execution_count": 39,
     "metadata": {},
     "output_type": "execute_result"
    }
   ],
   "source": [
    "# sales 2016\n",
    "x = df['year'] == 2015\n",
    "df2 = df[x]\n",
    "sales = df2.groupby(['month']).sum().sort_values(['Sales'], ascending=False)\n",
    "sales.reset_index(inplace=True)\n",
    "sales"
   ]
  },
  {
   "cell_type": "code",
   "execution_count": 40,
   "id": "e1974cf9",
   "metadata": {
    "execution": {
     "iopub.execute_input": "2024-08-30T14:32:47.909993Z",
     "iopub.status.busy": "2024-08-30T14:32:47.909546Z",
     "iopub.status.idle": "2024-08-30T14:32:48.114799Z",
     "shell.execute_reply": "2024-08-30T14:32:48.113387Z"
    },
    "papermill": {
     "duration": 0.23959,
     "end_time": "2024-08-30T14:32:48.117556",
     "exception": false,
     "start_time": "2024-08-30T14:32:47.877966",
     "status": "completed"
    },
    "tags": []
   },
   "outputs": [
    {
     "data": {
      "text/plain": [
       "<BarContainer object of 12 artists>"
      ]
     },
     "execution_count": 40,
     "metadata": {},
     "output_type": "execute_result"
    },
    {
     "data": {
      "image/png": "[encoded data removed]",
      "text/plain": [
       "<Figure size 432x288 with 1 Axes>"
      ]
     },
     "metadata": {
      "needs_background": "light"
     },
     "output_type": "display_data"
    }
   ],
   "source": [
    "# show sales in each month year=2016\n",
    "plt.bar(sales['month'] , sales['Sales'])"
   ]
  },
  {
   "cell_type": "code",
   "execution_count": 41,
   "id": "80723dcb",
   "metadata": {
    "execution": {
     "iopub.execute_input": "2024-08-30T14:32:48.177806Z",
     "iopub.status.busy": "2024-08-30T14:32:48.177349Z",
     "iopub.status.idle": "2024-08-30T14:32:48.219320Z",
     "shell.execute_reply": "2024-08-30T14:32:48.218079Z"
    },
    "papermill": {
     "duration": 0.075464,
     "end_time": "2024-08-30T14:32:48.222265",
     "exception": false,
     "start_time": "2024-08-30T14:32:48.146801",
     "status": "completed"
    },
    "tags": []
   },
   "outputs": [
    {
     "data": {
      "text/plain": [
       "[[2015,\n",
       "  0     14205.7070\n",
       "  1      4519.8920\n",
       "  2     55205.7970\n",
       "  3     27906.8550\n",
       "  4     23644.3030\n",
       "  5     34322.9356\n",
       "  6     33781.5430\n",
       "  7     27117.5365\n",
       "  8     81623.5268\n",
       "  9     31453.3930\n",
       "  10    77907.6607\n",
       "  11    68167.0585\n",
       "  Name: Sales, dtype: float64],\n",
       " [2016,\n",
       "  0     18066.9576\n",
       "  1     11951.4110\n",
       "  2     32339.3184\n",
       "  3     34154.4685\n",
       "  4     29959.5305\n",
       "  5     23599.3740\n",
       "  6     28608.2590\n",
       "  7     36818.3422\n",
       "  8     63133.6060\n",
       "  9     31011.7375\n",
       "  10    75249.3995\n",
       "  11    74543.6012\n",
       "  Name: Sales, dtype: float64],\n",
       " [2017,\n",
       "  0     18542.4910\n",
       "  1     22978.8150\n",
       "  2     51165.0590\n",
       "  3     38679.7670\n",
       "  4     56656.9080\n",
       "  5     39724.4860\n",
       "  6     38320.7830\n",
       "  7     30542.2003\n",
       "  8     69193.3909\n",
       "  9     59583.0330\n",
       "  10    79066.4958\n",
       "  11    95739.1210\n",
       "  Name: Sales, dtype: float64],\n",
       " [2018,\n",
       "  0      43476.4740\n",
       "  1      19920.9974\n",
       "  2      58863.4128\n",
       "  3      35541.9101\n",
       "  4      43825.9822\n",
       "  5      48190.7277\n",
       "  6      44825.1040\n",
       "  7      62837.8480\n",
       "  8      86152.8880\n",
       "  9      77448.1312\n",
       "  10    117938.1550\n",
       "  11     83030.3888\n",
       "  Name: Sales, dtype: float64]]"
      ]
     },
     "execution_count": 41,
     "metadata": {},
     "output_type": "execute_result"
    }
   ],
   "source": [
    "# function to get sales for each month in the 4 years\n",
    "\n",
    "all_sales = []\n",
    "\n",
    "years = [2015,2016,2017,2018]\n",
    "for year in years : \n",
    "    x = df['year'] == year\n",
    "    df2 = df[x]\n",
    "    sales = df2.groupby(['month']).sum() #.sort_values(['Sales'], ascending=False)\n",
    "    sales.reset_index(inplace=True)\n",
    "    all_sales.append([year,sales['Sales']])\n",
    "    \n",
    "x = df['year'] == 2015\n",
    "df2 = df[x]\n",
    "sales = df2.groupby(['month']).sum().sort_values(['Sales'], ascending=False)\n",
    "sales.reset_index(inplace=True)\n",
    "all_sales"
   ]
  },
  {
   "cell_type": "code",
   "execution_count": 42,
   "id": "81e4df05",
   "metadata": {
    "execution": {
     "iopub.execute_input": "2024-08-30T14:32:48.282069Z",
     "iopub.status.busy": "2024-08-30T14:32:48.281547Z",
     "iopub.status.idle": "2024-08-30T14:32:48.312592Z",
     "shell.execute_reply": "2024-08-30T14:32:48.311337Z"
    },
    "papermill": {
     "duration": 0.063877,
     "end_time": "2024-08-30T14:32:48.315192",
     "exception": false,
     "start_time": "2024-08-30T14:32:48.251315",
     "status": "completed"
    },
    "tags": []
   },
   "outputs": [
    {
     "data": {
      "text/html": [
       "<div>\n",
       "<style scoped>\n",
       "    .dataframe tbody tr th:only-of-type {\n",
       "        vertical-align: middle;\n",
       "    }\n",
       "\n",
       "    .dataframe tbody tr th {\n",
       "        vertical-align: top;\n",
       "    }\n",
       "\n",
       "    .dataframe thead th {\n",
       "        text-align: right;\n",
       "    }\n",
       "</style>\n",
       "<table border=\"1\" class=\"dataframe\">\n",
       "  <thead>\n",
       "    <tr style=\"text-align: right;\">\n",
       "      <th></th>\n",
       "      <th>year</th>\n",
       "      <th>month</th>\n",
       "      <th>Row ID</th>\n",
       "      <th>Postal Code</th>\n",
       "      <th>Sales</th>\n",
       "      <th>day</th>\n",
       "    </tr>\n",
       "  </thead>\n",
       "  <tbody>\n",
       "    <tr>\n",
       "      <th>0</th>\n",
       "      <td>2015</td>\n",
       "      <td>1</td>\n",
       "      <td>326299</td>\n",
       "      <td>4261212.0</td>\n",
       "      <td>14205.7070</td>\n",
       "      <td>1264</td>\n",
       "    </tr>\n",
       "    <tr>\n",
       "      <th>1</th>\n",
       "      <td>2015</td>\n",
       "      <td>2</td>\n",
       "      <td>272235</td>\n",
       "      <td>3049775.0</td>\n",
       "      <td>4519.8920</td>\n",
       "      <td>562</td>\n",
       "    </tr>\n",
       "    <tr>\n",
       "      <th>2</th>\n",
       "      <td>2015</td>\n",
       "      <td>3</td>\n",
       "      <td>841782</td>\n",
       "      <td>8230795.0</td>\n",
       "      <td>55205.7970</td>\n",
       "      <td>2522</td>\n",
       "    </tr>\n",
       "    <tr>\n",
       "      <th>3</th>\n",
       "      <td>2015</td>\n",
       "      <td>4</td>\n",
       "      <td>641208</td>\n",
       "      <td>7318088.0</td>\n",
       "      <td>27906.8550</td>\n",
       "      <td>1822</td>\n",
       "    </tr>\n",
       "    <tr>\n",
       "      <th>4</th>\n",
       "      <td>2015</td>\n",
       "      <td>5</td>\n",
       "      <td>601875</td>\n",
       "      <td>6422584.0</td>\n",
       "      <td>23644.3030</td>\n",
       "      <td>1988</td>\n",
       "    </tr>\n",
       "    <tr>\n",
       "      <th>5</th>\n",
       "      <td>2015</td>\n",
       "      <td>6</td>\n",
       "      <td>452362</td>\n",
       "      <td>6579219.0</td>\n",
       "      <td>34322.9356</td>\n",
       "      <td>1990</td>\n",
       "    </tr>\n",
       "    <tr>\n",
       "      <th>6</th>\n",
       "      <td>2015</td>\n",
       "      <td>7</td>\n",
       "      <td>736469</td>\n",
       "      <td>9031885.0</td>\n",
       "      <td>33781.5430</td>\n",
       "      <td>2308</td>\n",
       "    </tr>\n",
       "    <tr>\n",
       "      <th>7</th>\n",
       "      <td>2015</td>\n",
       "      <td>8</td>\n",
       "      <td>660411</td>\n",
       "      <td>8097400.0</td>\n",
       "      <td>27117.5365</td>\n",
       "      <td>2172</td>\n",
       "    </tr>\n",
       "    <tr>\n",
       "      <th>8</th>\n",
       "      <td>2015</td>\n",
       "      <td>9</td>\n",
       "      <td>1288844</td>\n",
       "      <td>14461190.0</td>\n",
       "      <td>81623.5268</td>\n",
       "      <td>4216</td>\n",
       "    </tr>\n",
       "    <tr>\n",
       "      <th>9</th>\n",
       "      <td>2015</td>\n",
       "      <td>10</td>\n",
       "      <td>865655</td>\n",
       "      <td>9703910.0</td>\n",
       "      <td>31453.3930</td>\n",
       "      <td>2529</td>\n",
       "    </tr>\n",
       "    <tr>\n",
       "      <th>10</th>\n",
       "      <td>2015</td>\n",
       "      <td>11</td>\n",
       "      <td>1487159</td>\n",
       "      <td>17527383.0</td>\n",
       "      <td>77907.6607</td>\n",
       "      <td>4637</td>\n",
       "    </tr>\n",
       "    <tr>\n",
       "      <th>11</th>\n",
       "      <td>2015</td>\n",
       "      <td>12</td>\n",
       "      <td>1334401</td>\n",
       "      <td>16158704.0</td>\n",
       "      <td>68167.0585</td>\n",
       "      <td>4696</td>\n",
       "    </tr>\n",
       "    <tr>\n",
       "      <th>12</th>\n",
       "      <td>2016</td>\n",
       "      <td>1</td>\n",
       "      <td>281094</td>\n",
       "      <td>3044461.0</td>\n",
       "      <td>18066.9576</td>\n",
       "      <td>744</td>\n",
       "    </tr>\n",
       "    <tr>\n",
       "      <th>13</th>\n",
       "      <td>2016</td>\n",
       "      <td>2</td>\n",
       "      <td>307145</td>\n",
       "      <td>3276216.0</td>\n",
       "      <td>11951.4110</td>\n",
       "      <td>884</td>\n",
       "    </tr>\n",
       "    <tr>\n",
       "      <th>14</th>\n",
       "      <td>2016</td>\n",
       "      <td>3</td>\n",
       "      <td>596373</td>\n",
       "      <td>7210172.0</td>\n",
       "      <td>32339.3184</td>\n",
       "      <td>2024</td>\n",
       "    </tr>\n",
       "    <tr>\n",
       "      <th>15</th>\n",
       "      <td>2016</td>\n",
       "      <td>4</td>\n",
       "      <td>763516</td>\n",
       "      <td>8643078.0</td>\n",
       "      <td>34154.4685</td>\n",
       "      <td>2510</td>\n",
       "    </tr>\n",
       "    <tr>\n",
       "      <th>16</th>\n",
       "      <td>2016</td>\n",
       "      <td>5</td>\n",
       "      <td>783557</td>\n",
       "      <td>7709380.0</td>\n",
       "      <td>29959.5305</td>\n",
       "      <td>2500</td>\n",
       "    </tr>\n",
       "    <tr>\n",
       "      <th>17</th>\n",
       "      <td>2016</td>\n",
       "      <td>6</td>\n",
       "      <td>680624</td>\n",
       "      <td>6764897.0</td>\n",
       "      <td>23599.3740</td>\n",
       "      <td>2035</td>\n",
       "    </tr>\n",
       "    <tr>\n",
       "      <th>18</th>\n",
       "      <td>2016</td>\n",
       "      <td>7</td>\n",
       "      <td>545232</td>\n",
       "      <td>6289866.0</td>\n",
       "      <td>28608.2590</td>\n",
       "      <td>1910</td>\n",
       "    </tr>\n",
       "    <tr>\n",
       "      <th>19</th>\n",
       "      <td>2016</td>\n",
       "      <td>8</td>\n",
       "      <td>816645</td>\n",
       "      <td>8587652.0</td>\n",
       "      <td>36818.3422</td>\n",
       "      <td>2626</td>\n",
       "    </tr>\n",
       "    <tr>\n",
       "      <th>20</th>\n",
       "      <td>2016</td>\n",
       "      <td>9</td>\n",
       "      <td>1372463</td>\n",
       "      <td>13165550.0</td>\n",
       "      <td>63133.6060</td>\n",
       "      <td>4681</td>\n",
       "    </tr>\n",
       "    <tr>\n",
       "      <th>21</th>\n",
       "      <td>2016</td>\n",
       "      <td>10</td>\n",
       "      <td>762812</td>\n",
       "      <td>10133332.0</td>\n",
       "      <td>31011.7375</td>\n",
       "      <td>2689</td>\n",
       "    </tr>\n",
       "    <tr>\n",
       "      <th>22</th>\n",
       "      <td>2016</td>\n",
       "      <td>11</td>\n",
       "      <td>1610035</td>\n",
       "      <td>16242240.0</td>\n",
       "      <td>75249.3995</td>\n",
       "      <td>5220</td>\n",
       "    </tr>\n",
       "    <tr>\n",
       "      <th>23</th>\n",
       "      <td>2016</td>\n",
       "      <td>12</td>\n",
       "      <td>1428845</td>\n",
       "      <td>17780229.0</td>\n",
       "      <td>74543.6012</td>\n",
       "      <td>4621</td>\n",
       "    </tr>\n",
       "    <tr>\n",
       "      <th>24</th>\n",
       "      <td>2017</td>\n",
       "      <td>1</td>\n",
       "      <td>477972</td>\n",
       "      <td>4357713.0</td>\n",
       "      <td>18542.4910</td>\n",
       "      <td>1523</td>\n",
       "    </tr>\n",
       "    <tr>\n",
       "      <th>25</th>\n",
       "      <td>2017</td>\n",
       "      <td>2</td>\n",
       "      <td>428663</td>\n",
       "      <td>3691682.0</td>\n",
       "      <td>22978.8150</td>\n",
       "      <td>1081</td>\n",
       "    </tr>\n",
       "    <tr>\n",
       "      <th>26</th>\n",
       "      <td>2017</td>\n",
       "      <td>3</td>\n",
       "      <td>795665</td>\n",
       "      <td>8055637.0</td>\n",
       "      <td>51165.0590</td>\n",
       "      <td>2272</td>\n",
       "    </tr>\n",
       "    <tr>\n",
       "      <th>27</th>\n",
       "      <td>2017</td>\n",
       "      <td>4</td>\n",
       "      <td>686469</td>\n",
       "      <td>8505358.0</td>\n",
       "      <td>38679.7670</td>\n",
       "      <td>2324</td>\n",
       "    </tr>\n",
       "    <tr>\n",
       "      <th>28</th>\n",
       "      <td>2017</td>\n",
       "      <td>5</td>\n",
       "      <td>1061919</td>\n",
       "      <td>11136909.0</td>\n",
       "      <td>56656.9080</td>\n",
       "      <td>3871</td>\n",
       "    </tr>\n",
       "    <tr>\n",
       "      <th>29</th>\n",
       "      <td>2017</td>\n",
       "      <td>6</td>\n",
       "      <td>894146</td>\n",
       "      <td>10517028.0</td>\n",
       "      <td>39724.4860</td>\n",
       "      <td>3092</td>\n",
       "    </tr>\n",
       "    <tr>\n",
       "      <th>30</th>\n",
       "      <td>2017</td>\n",
       "      <td>7</td>\n",
       "      <td>931514</td>\n",
       "      <td>10970980.0</td>\n",
       "      <td>38320.7830</td>\n",
       "      <td>3191</td>\n",
       "    </tr>\n",
       "    <tr>\n",
       "      <th>31</th>\n",
       "      <td>2017</td>\n",
       "      <td>8</td>\n",
       "      <td>862113</td>\n",
       "      <td>9966114.0</td>\n",
       "      <td>30542.2003</td>\n",
       "      <td>3226</td>\n",
       "    </tr>\n",
       "    <tr>\n",
       "      <th>32</th>\n",
       "      <td>2017</td>\n",
       "      <td>9</td>\n",
       "      <td>1751824</td>\n",
       "      <td>19506785.0</td>\n",
       "      <td>69193.3909</td>\n",
       "      <td>4507</td>\n",
       "    </tr>\n",
       "    <tr>\n",
       "      <th>33</th>\n",
       "      <td>2017</td>\n",
       "      <td>10</td>\n",
       "      <td>943703</td>\n",
       "      <td>10732125.0</td>\n",
       "      <td>59583.0330</td>\n",
       "      <td>3176</td>\n",
       "    </tr>\n",
       "    <tr>\n",
       "      <th>34</th>\n",
       "      <td>2017</td>\n",
       "      <td>11</td>\n",
       "      <td>1741353</td>\n",
       "      <td>20535657.0</td>\n",
       "      <td>79066.4958</td>\n",
       "      <td>5459</td>\n",
       "    </tr>\n",
       "    <tr>\n",
       "      <th>35</th>\n",
       "      <td>2017</td>\n",
       "      <td>12</td>\n",
       "      <td>1678751</td>\n",
       "      <td>20224053.0</td>\n",
       "      <td>95739.1210</td>\n",
       "      <td>4811</td>\n",
       "    </tr>\n",
       "    <tr>\n",
       "      <th>36</th>\n",
       "      <td>2018</td>\n",
       "      <td>1</td>\n",
       "      <td>728807</td>\n",
       "      <td>8743363.0</td>\n",
       "      <td>43476.4740</td>\n",
       "      <td>2544</td>\n",
       "    </tr>\n",
       "    <tr>\n",
       "      <th>37</th>\n",
       "      <td>2018</td>\n",
       "      <td>2</td>\n",
       "      <td>563528</td>\n",
       "      <td>6515796.0</td>\n",
       "      <td>19920.9974</td>\n",
       "      <td>1464</td>\n",
       "    </tr>\n",
       "    <tr>\n",
       "      <th>38</th>\n",
       "      <td>2018</td>\n",
       "      <td>3</td>\n",
       "      <td>1284103</td>\n",
       "      <td>13925675.0</td>\n",
       "      <td>58863.4128</td>\n",
       "      <td>4052</td>\n",
       "    </tr>\n",
       "    <tr>\n",
       "      <th>39</th>\n",
       "      <td>2018</td>\n",
       "      <td>4</td>\n",
       "      <td>918377</td>\n",
       "      <td>10005651.0</td>\n",
       "      <td>35541.9101</td>\n",
       "      <td>3266</td>\n",
       "    </tr>\n",
       "    <tr>\n",
       "      <th>40</th>\n",
       "      <td>2018</td>\n",
       "      <td>5</td>\n",
       "      <td>1326995</td>\n",
       "      <td>14034388.0</td>\n",
       "      <td>43825.9822</td>\n",
       "      <td>3758</td>\n",
       "    </tr>\n",
       "    <tr>\n",
       "      <th>41</th>\n",
       "      <td>2018</td>\n",
       "      <td>6</td>\n",
       "      <td>1072626</td>\n",
       "      <td>13140015.0</td>\n",
       "      <td>48190.7277</td>\n",
       "      <td>3719</td>\n",
       "    </tr>\n",
       "    <tr>\n",
       "      <th>42</th>\n",
       "      <td>2018</td>\n",
       "      <td>7</td>\n",
       "      <td>1154254</td>\n",
       "      <td>11788820.0</td>\n",
       "      <td>44825.1040</td>\n",
       "      <td>3583</td>\n",
       "    </tr>\n",
       "    <tr>\n",
       "      <th>43</th>\n",
       "      <td>2018</td>\n",
       "      <td>8</td>\n",
       "      <td>1101417</td>\n",
       "      <td>13236311.0</td>\n",
       "      <td>62837.8480</td>\n",
       "      <td>3672</td>\n",
       "    </tr>\n",
       "    <tr>\n",
       "      <th>44</th>\n",
       "      <td>2018</td>\n",
       "      <td>9</td>\n",
       "      <td>2299295</td>\n",
       "      <td>24711545.0</td>\n",
       "      <td>86152.8880</td>\n",
       "      <td>6625</td>\n",
       "    </tr>\n",
       "    <tr>\n",
       "      <th>45</th>\n",
       "      <td>2018</td>\n",
       "      <td>10</td>\n",
       "      <td>1373261</td>\n",
       "      <td>16394453.0</td>\n",
       "      <td>77448.1312</td>\n",
       "      <td>4539</td>\n",
       "    </tr>\n",
       "    <tr>\n",
       "      <th>46</th>\n",
       "      <td>2018</td>\n",
       "      <td>11</td>\n",
       "      <td>2270197</td>\n",
       "      <td>25171742.0</td>\n",
       "      <td>117938.1550</td>\n",
       "      <td>6746</td>\n",
       "    </tr>\n",
       "    <tr>\n",
       "      <th>47</th>\n",
       "      <td>2018</td>\n",
       "      <td>12</td>\n",
       "      <td>2220907</td>\n",
       "      <td>25572946.0</td>\n",
       "      <td>83030.3888</td>\n",
       "      <td>6120</td>\n",
       "    </tr>\n",
       "  </tbody>\n",
       "</table>\n",
       "</div>"
      ],
      "text/plain": [
       "    year  month   Row ID  Postal Code        Sales   day\n",
       "0   2015      1   326299    4261212.0   14205.7070  1264\n",
       "1   2015      2   272235    3049775.0    4519.8920   562\n",
       "2   2015      3   841782    8230795.0   55205.7970  2522\n",
       "3   2015      4   641208    7318088.0   27906.8550  1822\n",
       "4   2015      5   601875    6422584.0   23644.3030  1988\n",
       "5   2015      6   452362    6579219.0   34322.9356  1990\n",
       "6   2015      7   736469    9031885.0   33781.5430  2308\n",
       "7   2015      8   660411    8097400.0   27117.5365  2172\n",
       "8   2015      9  1288844   14461190.0   81623.5268  4216\n",
       "9   2015     10   865655    9703910.0   31453.3930  2529\n",
       "10  2015     11  1487159   17527383.0   77907.6607  4637\n",
       "11  2015     12  1334401   16158704.0   68167.0585  4696\n",
       "12  2016      1   281094    3044461.0   18066.9576   744\n",
       "13  2016      2   307145    3276216.0   11951.4110   884\n",
       "14  2016      3   596373    7210172.0   32339.3184  2024\n",
       "15  2016      4   763516    8643078.0   34154.4685  2510\n",
       "16  2016      5   783557    7709380.0   29959.5305  2500\n",
       "17  2016      6   680624    6764897.0   23599.3740  2035\n",
       "18  2016      7   545232    6289866.0   28608.2590  1910\n",
       "19  2016      8   816645    8587652.0   36818.3422  2626\n",
       "20  2016      9  1372463   13165550.0   63133.6060  4681\n",
       "21  2016     10   762812   10133332.0   31011.7375  2689\n",
       "22  2016     11  1610035   16242240.0   75249.3995  5220\n",
       "23  2016     12  1428845   17780229.0   74543.6012  4621\n",
       "24  2017      1   477972    4357713.0   18542.4910  1523\n",
       "25  2017      2   428663    3691682.0   22978.8150  1081\n",
       "26  2017      3   795665    8055637.0   51165.0590  2272\n",
       "27  2017      4   686469    8505358.0   38679.7670  2324\n",
       "28  2017      5  1061919   11136909.0   56656.9080  3871\n",
       "29  2017      6   894146   10517028.0   39724.4860  3092\n",
       "30  2017      7   931514   10970980.0   38320.7830  3191\n",
       "31  2017      8   862113    9966114.0   30542.2003  3226\n",
       "32  2017      9  1751824   19506785.0   69193.3909  4507\n",
       "33  2017     10   943703   10732125.0   59583.0330  3176\n",
       "34  2017     11  1741353   20535657.0   79066.4958  5459\n",
       "35  2017     12  1678751   20224053.0   95739.1210  4811\n",
       "36  2018      1   728807    8743363.0   43476.4740  2544\n",
       "37  2018      2   563528    6515796.0   19920.9974  1464\n",
       "38  2018      3  1284103   13925675.0   58863.4128  4052\n",
       "39  2018      4   918377   10005651.0   35541.9101  3266\n",
       "40  2018      5  1326995   14034388.0   43825.9822  3758\n",
       "41  2018      6  1072626   13140015.0   48190.7277  3719\n",
       "42  2018      7  1154254   11788820.0   44825.1040  3583\n",
       "43  2018      8  1101417   13236311.0   62837.8480  3672\n",
       "44  2018      9  2299295   24711545.0   86152.8880  6625\n",
       "45  2018     10  1373261   16394453.0   77448.1312  4539\n",
       "46  2018     11  2270197   25171742.0  117938.1550  6746\n",
       "47  2018     12  2220907   25572946.0   83030.3888  6120"
      ]
     },
     "execution_count": 42,
     "metadata": {},
     "output_type": "execute_result"
    }
   ],
   "source": [
    "# show sales in each year with months detail \n",
    "my_sales = df.groupby([('year'),('month')]).sum()\n",
    "my_sales.reset_index(inplace=True)\n",
    "my_sales"
   ]
  },
  {
   "cell_type": "code",
   "execution_count": 43,
   "id": "068f362c",
   "metadata": {
    "execution": {
     "iopub.execute_input": "2024-08-30T14:32:48.376545Z",
     "iopub.status.busy": "2024-08-30T14:32:48.375589Z",
     "iopub.status.idle": "2024-08-30T14:32:48.600672Z",
     "shell.execute_reply": "2024-08-30T14:32:48.599397Z"
    },
    "papermill": {
     "duration": 0.258745,
     "end_time": "2024-08-30T14:32:48.603404",
     "exception": false,
     "start_time": "2024-08-30T14:32:48.344659",
     "status": "completed"
    },
    "tags": []
   },
   "outputs": [
    {
     "data": {
      "text/plain": [
       "<matplotlib.collections.PathCollection at 0x79d067c60410>"
      ]
     },
     "execution_count": 43,
     "metadata": {},
     "output_type": "execute_result"
    },
    {
     "data": {
      "image/png": "[encoded data removed]",
      "text/plain": [
       "<Figure size 1080x720 with 1 Axes>"
      ]
     },
     "metadata": {
      "needs_background": "light"
     },
     "output_type": "display_data"
    }
   ],
   "source": [
    "# draw the sales as scatter to get the highest sales in each year  \n",
    "plt.figure(figsize=(15,10))\n",
    "plt.scatter(my_sales['year'],my_sales['Sales'])"
   ]
  },
  {
   "cell_type": "code",
   "execution_count": 44,
   "id": "98fd1da9",
   "metadata": {
    "execution": {
     "iopub.execute_input": "2024-08-30T14:32:48.667401Z",
     "iopub.status.busy": "2024-08-30T14:32:48.666982Z",
     "iopub.status.idle": "2024-08-30T14:32:48.892886Z",
     "shell.execute_reply": "2024-08-30T14:32:48.891444Z"
    },
    "papermill": {
     "duration": 0.260498,
     "end_time": "2024-08-30T14:32:48.895662",
     "exception": false,
     "start_time": "2024-08-30T14:32:48.635164",
     "status": "completed"
    },
    "tags": []
   },
   "outputs": [
    {
     "data": {
      "text/plain": [
       "<BarContainer object of 48 artists>"
      ]
     },
     "execution_count": 44,
     "metadata": {},
     "output_type": "execute_result"
    },
    {
     "data": {
      "image/png": "[encoded data removed]",
      "text/plain": [
       "<Figure size 432x288 with 1 Axes>"
      ]
     },
     "metadata": {
      "needs_background": "light"
     },
     "output_type": "display_data"
    }
   ],
   "source": [
    "# another way to show it but the scatter is better \n",
    "plt.bar(my_sales['year'],my_sales['Sales'])"
   ]
  },
  {
   "cell_type": "markdown",
   "id": "65ae601e",
   "metadata": {
    "papermill": {
     "duration": 0.03087,
     "end_time": "2024-08-30T14:32:48.958220",
     "exception": false,
     "start_time": "2024-08-30T14:32:48.927350",
     "status": "completed"
    },
    "tags": []
   },
   "source": [
    "now i will get the sales for each year alone , because i want to draw all the years in one detaild chart , i know i can do this in a simple way using functions , but i wanted to keep it very simple so that people understand it easily "
   ]
  },
  {
   "cell_type": "code",
   "execution_count": 45,
   "id": "0cbe2ab0",
   "metadata": {
    "execution": {
     "iopub.execute_input": "2024-08-30T14:32:49.021450Z",
     "iopub.status.busy": "2024-08-30T14:32:49.021024Z",
     "iopub.status.idle": "2024-08-30T14:32:49.036456Z",
     "shell.execute_reply": "2024-08-30T14:32:49.035311Z"
    },
    "papermill": {
     "duration": 0.05001,
     "end_time": "2024-08-30T14:32:49.039208",
     "exception": false,
     "start_time": "2024-08-30T14:32:48.989198",
     "status": "completed"
    },
    "tags": []
   },
   "outputs": [
    {
     "data": {
      "text/plain": [
       "[14205.71,\n",
       " 4519.89,\n",
       " 55205.8,\n",
       " 27906.85,\n",
       " 23644.3,\n",
       " 34322.94,\n",
       " 33781.54,\n",
       " 27117.54,\n",
       " 81623.53,\n",
       " 31453.39,\n",
       " 77907.66,\n",
       " 68167.06]"
      ]
     },
     "execution_count": 45,
     "metadata": {},
     "output_type": "execute_result"
    }
   ],
   "source": [
    "# get 2015 sales \n",
    "x = df['year'] == 2015\n",
    "df2 = df[x]\n",
    "sales = df2.groupby(['month']).sum()\n",
    "sales.reset_index(inplace=True)\n",
    "sales_2015 = [round(x,2) for x in list(sales['Sales'])]\n",
    "sales_2015"
   ]
  },
  {
   "cell_type": "code",
   "execution_count": 46,
   "id": "f00a9908",
   "metadata": {
    "execution": {
     "iopub.execute_input": "2024-08-30T14:32:49.102829Z",
     "iopub.status.busy": "2024-08-30T14:32:49.102379Z",
     "iopub.status.idle": "2024-08-30T14:32:49.118352Z",
     "shell.execute_reply": "2024-08-30T14:32:49.117215Z"
    },
    "papermill": {
     "duration": 0.051071,
     "end_time": "2024-08-30T14:32:49.120986",
     "exception": false,
     "start_time": "2024-08-30T14:32:49.069915",
     "status": "completed"
    },
    "tags": []
   },
   "outputs": [
    {
     "data": {
      "text/plain": [
       "[18066.96,\n",
       " 11951.41,\n",
       " 32339.32,\n",
       " 34154.47,\n",
       " 29959.53,\n",
       " 23599.37,\n",
       " 28608.26,\n",
       " 36818.34,\n",
       " 63133.61,\n",
       " 31011.74,\n",
       " 75249.4,\n",
       " 74543.6]"
      ]
     },
     "execution_count": 46,
     "metadata": {},
     "output_type": "execute_result"
    }
   ],
   "source": [
    "# get 2016 sales \n",
    "x = df['year'] == 2016\n",
    "df2 = df[x]\n",
    "sales = df2.groupby(['month']).sum()\n",
    "sales.reset_index(inplace=True)\n",
    "sales_2016 = [round(x,2) for x in list(sales['Sales'])]\n",
    "sales_2016"
   ]
  },
  {
   "cell_type": "code",
   "execution_count": 47,
   "id": "ca7d02a2",
   "metadata": {
    "execution": {
     "iopub.execute_input": "2024-08-30T14:32:49.184662Z",
     "iopub.status.busy": "2024-08-30T14:32:49.184238Z",
     "iopub.status.idle": "2024-08-30T14:32:49.202101Z",
     "shell.execute_reply": "2024-08-30T14:32:49.200826Z"
    },
    "papermill": {
     "duration": 0.052616,
     "end_time": "2024-08-30T14:32:49.204665",
     "exception": false,
     "start_time": "2024-08-30T14:32:49.152049",
     "status": "completed"
    },
    "tags": []
   },
   "outputs": [
    {
     "data": {
      "text/plain": [
       "[18542.49,\n",
       " 22978.82,\n",
       " 51165.06,\n",
       " 38679.77,\n",
       " 56656.91,\n",
       " 39724.49,\n",
       " 38320.78,\n",
       " 30542.2,\n",
       " 69193.39,\n",
       " 59583.03,\n",
       " 79066.5,\n",
       " 95739.12]"
      ]
     },
     "execution_count": 47,
     "metadata": {},
     "output_type": "execute_result"
    }
   ],
   "source": [
    "# get 2017 sales \n",
    "x = df['year'] == 2017\n",
    "df2 = df[x]\n",
    "sales = df2.groupby(['month']).sum()\n",
    "sales.reset_index(inplace=True)\n",
    "sales_2017 = [round(x,2) for x in list(sales['Sales'])]\n",
    "sales_2017"
   ]
  },
  {
   "cell_type": "code",
   "execution_count": 48,
   "id": "20233e2c",
   "metadata": {
    "execution": {
     "iopub.execute_input": "2024-08-30T14:32:49.270204Z",
     "iopub.status.busy": "2024-08-30T14:32:49.268813Z",
     "iopub.status.idle": "2024-08-30T14:32:49.286080Z",
     "shell.execute_reply": "2024-08-30T14:32:49.284931Z"
    },
    "papermill": {
     "duration": 0.052842,
     "end_time": "2024-08-30T14:32:49.288669",
     "exception": false,
     "start_time": "2024-08-30T14:32:49.235827",
     "status": "completed"
    },
    "tags": []
   },
   "outputs": [
    {
     "data": {
      "text/plain": [
       "[43476.47,\n",
       " 19921.0,\n",
       " 58863.41,\n",
       " 35541.91,\n",
       " 43825.98,\n",
       " 48190.73,\n",
       " 44825.1,\n",
       " 62837.85,\n",
       " 86152.89,\n",
       " 77448.13,\n",
       " 117938.15,\n",
       " 83030.39]"
      ]
     },
     "execution_count": 48,
     "metadata": {},
     "output_type": "execute_result"
    }
   ],
   "source": [
    "# get 2018 sales \n",
    "x = df['year'] == 2018\n",
    "df2 = df[x]\n",
    "sales = df2.groupby(['month']).sum()\n",
    "sales.reset_index(inplace=True)\n",
    "sales_2018 = [round(x,2) for x in list(sales['Sales'])]\n",
    "sales_2018"
   ]
  },
  {
   "cell_type": "code",
   "execution_count": 49,
   "id": "25ea4372",
   "metadata": {
    "execution": {
     "iopub.execute_input": "2024-08-30T14:32:49.352941Z",
     "iopub.status.busy": "2024-08-30T14:32:49.352485Z",
     "iopub.status.idle": "2024-08-30T14:32:49.548941Z",
     "shell.execute_reply": "2024-08-30T14:32:49.547728Z"
    },
    "papermill": {
     "duration": 0.231494,
     "end_time": "2024-08-30T14:32:49.551430",
     "exception": false,
     "start_time": "2024-08-30T14:32:49.319936",
     "status": "completed"
    },
    "tags": []
   },
   "outputs": [
    {
     "data": {
      "image/png": "[encoded data removed]",
      "text/plain": [
       "<Figure size 1080x576 with 1 Axes>"
      ]
     },
     "metadata": {
      "needs_background": "light"
     },
     "output_type": "display_data"
    }
   ],
   "source": [
    "# draw all the months in all the years in a good way so that we can see the differences between them \n",
    "import numpy as np\n",
    "\n",
    "\n",
    "plt.figure(figsize=(15,8))\n",
    "\n",
    "#day one, the age and speed of 13 cars:\n",
    "x = np.array([1,2,3,4,5,6,7,8,9,10,11,12])\n",
    "y = np.array(sales_2015)\n",
    "plt.scatter(x, y , color = 'red')\n",
    "\n",
    "#day two, the age and speed of 15 cars:\n",
    "y = np.array(sales_2016)\n",
    "plt.scatter(x, y , color = 'blue')\n",
    "\n",
    "\n",
    "\n",
    "y = np.array(sales_2017)\n",
    "plt.scatter(x, y , color = 'black')\n",
    "\n",
    "\n",
    "y = np.array(sales_2018)\n",
    "plt.scatter(x, y , color = 'green')\n",
    "\n",
    "plt.show()"
   ]
  },
  {
   "cell_type": "code",
   "execution_count": 50,
   "id": "e25a2772",
   "metadata": {
    "execution": {
     "iopub.execute_input": "2024-08-30T14:32:49.618871Z",
     "iopub.status.busy": "2024-08-30T14:32:49.616277Z",
     "iopub.status.idle": "2024-08-30T14:32:49.870116Z",
     "shell.execute_reply": "2024-08-30T14:32:49.868648Z"
    },
    "papermill": {
     "duration": 0.291068,
     "end_time": "2024-08-30T14:32:49.874293",
     "exception": false,
     "start_time": "2024-08-30T14:32:49.583225",
     "status": "completed"
    },
    "tags": []
   },
   "outputs": [
    {
     "data": {
      "image/png": "[encoded data removed]",
      "text/plain": [
       "<Figure size 1080x576 with 1 Axes>"
      ]
     },
     "metadata": {
      "needs_background": "light"
     },
     "output_type": "display_data"
    }
   ],
   "source": [
    "# the same chart but in another way\n",
    "plt.figure(figsize=(15,8))\n",
    "\n",
    "#day one, the age and speed of 13 cars:\n",
    "x = np.array([1,2,3,4,5,6,7,8,9,10,11,12])\n",
    "y = np.array(sales_2015)\n",
    "plt.plot(x, y , color = 'red' ,label='2015')\n",
    "\n",
    "\n",
    "#day two, the age and speed of 15 cars:\n",
    "y = np.array(sales_2016)\n",
    "plt.plot(x, y , color = 'blue' ,label='2016')\n",
    "\n",
    "\n",
    "\n",
    "y = np.array(sales_2017)\n",
    "plt.plot(x, y , color = 'black',label='2017')\n",
    "\n",
    "\n",
    "y = np.array(sales_2018)\n",
    "plt.plot(x, y , color = 'green' , label='2018')\n",
    "\n",
    "plt.legend()\n",
    "plt.show()"
   ]
  }
 ],
 "metadata": {
  "kaggle": {
   "accelerator": "none",
   "dataSources": [
    {
     "datasetId": 835308,
     "sourceId": 1480443,
     "sourceType": "datasetVersion"
    }
   ],
   "dockerImageVersionId": 30207,
   "isGpuEnabled": false,
   "isInternetEnabled": true,
   "language": "python",
   "sourceType": "notebook"
  },
  "kernelspec": {
   "display_name": "Python 3",
   "language": "python",
   "name": "python3"
  },
  "language_info": {
   "codemirror_mode": {
    "name": "ipython",
    "version": 3
   },
   "file_extension": ".py",
   "mimetype": "text/x-python",
   "name": "python",
   "nbconvert_exporter": "python",
   "pygments_lexer": "ipython3",
   "version": "3.7.12"
  },
  "papermill": {
   "default_parameters": {},
   "duration": 23.678017,
   "end_time": "2024-08-30T14:32:50.833376",
   "environment_variables": {},
   "exception": null,
   "input_path": "__notebook__.ipynb",
   "output_path": "__notebook__.ipynb",
   "parameters": {},
   "start_time": "2024-08-30T14:32:27.155359",
   "version": "2.3.4"
  }
 },
 "nbformat": 4,
 "nbformat_minor": 5
}
